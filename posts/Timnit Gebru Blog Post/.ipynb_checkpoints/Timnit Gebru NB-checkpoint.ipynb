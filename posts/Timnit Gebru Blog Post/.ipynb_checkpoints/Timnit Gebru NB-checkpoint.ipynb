{
 "cells": [
  {
   "cell_type": "raw",
   "id": "d5bcfb8a-c21c-4b79-b72e-f5d90a43b49f",
   "metadata": {},
   "source": [
    "---\n",
    "title: Learning from Timnit Gebru\n",
    "author: Mia Tarantola\n",
    "date: '2023-04-16'\n",
    "\n",
    "description: \"A blog post relating to our talk with Timnit Gebru\"\n",
    "format: html\n",
    "---"
   ]
  },
  {
   "cell_type": "markdown",
   "id": "56dc80e7-478a-40bb-a031-d7cc9d1da9ca",
   "metadata": {},
   "source": [
    "# Learning from Timnit Gebru"
   ]
  },
  {
   "cell_type": "markdown",
   "id": "e8add115-1398-48aa-b887-b94ec5b133c8",
   "metadata": {},
   "source": [
    "Mia Tarantola"
   ]
  },
  {
   "cell_type": "markdown",
   "id": "ff3093b0-4e78-4ab2-9c5b-91db0eefc2b0",
   "metadata": {},
   "source": [
    "## Introduction"
   ]
  },
  {
   "cell_type": "markdown",
   "id": "c1432e72-b9f7-4cc5-aa3c-026e73521636",
   "metadata": {},
   "source": [
    "This blog post will contain two parts. The first portion will be completed prior to our talk and will be based on self guided research on our speaker Timnit Gebru. I will take notes and pose some thoughtful questions that I think will make for a good discussion.\n",
    "\n",
    "The second portion will be completed during/after Gebru's talk. I will take notes and reflect on the material.\n",
    "\n",
    "**Dr. Timnit Gebru is a successful American computer scientist who focuses on artificial intelligence and algorithmic bias. She has become a well known advocated for diversity in technology and even founded her own community , Black in AI. In December 2020 Gebru left her position as the Ethical Artificial Intelligence Team lead at Google, following pushback fron her as-yet unpuclished paper voicing her concerns on the dangerous biases of large language models.**\n"
   ]
  },
  {
   "cell_type": "markdown",
   "id": "313189b7-def1-4e1e-9e25-ae86413cc8e3",
   "metadata": {},
   "source": [
    "## Part 1: Questions for Dr. Gebru"
   ]
  },
  {
   "cell_type": "markdown",
   "id": "924e986a-d86e-4311-b809-cf329a01edb5",
   "metadata": {},
   "source": [
    "### Notes of Dr. Grebru's talk: conference on Computer Vision and Pattern Recognition 2020"
   ]
  },
  {
   "cell_type": "markdown",
   "id": "1a63cafe-c9a7-43e8-92b2-370dec21ffff",
   "metadata": {},
   "source": [
    "[recording of the talk](https://www.youtube.com/watch?v=0sBE5OyD7fk&t=802s)"
   ]
  },
  {
   "cell_type": "markdown",
   "id": "08f0adb7-5266-4f0f-be51-be08ff4707c6",
   "metadata": {},
   "source": [
    "Timnit Gebru's talk on \"Computer Vision in practice: who is benefitting and who is being harmed?\" focuses on the ethical ramifications of computer vision technology in our society. Grebru emphasizes the need for critical thought on the possible effects of new technologies on marginalized communities as a top researcher in artifical intelligence and ethics.\n",
    "\n",
    "Gebru's talk emphasizes the danger that can result from the use of computer vision technology when it is implemented without adequate consideration of the potential consequences. She discusses how face recognition technology may be used to mistakenly identify people based on their gender and skin color, potentially leading to false charges and arrests. Additionally, predictive policing systems that rely on biased data sets can perpetuate systemic discrimination against communities of color, leading to increased surveillance and targeting. The ethics of data collecting and utilization are also covered by Gebru. She emphasizes that a model's deployment might still be unethical even if its accuracy is identical among all groups. Images scraped from numerous online sources are frequently included in data sets, often without the subjects' knowledge. She says that people are unlikely to want their pictures to be used in face recognition software to identify protesters.\n",
    "\n",
    "Gebru argues that it is essential for individuals who create and use computer vision systems to take into account these possible negative effects and strive toward creating more open and accountable business processes. She stresses the importance of diversity and inclusion in the creation of moral and responsible AI systems. She also encourages businesses and decision-makers to give underrepresented populations' demands and worries first priority while developing and implementing computer vision technologies.\n",
    "\n",
    "Gebru's presentation serves as a reminder of the essential part AI practitioners and researchers must play in influencing the creation and use of computer vision technologies. We can progress toward developing AI systems that are beneficial to every member of society by considering the ethical implications of these systems and including a variety of viewpoints into their development.\n",
    "\n",
    "**TL;DR In order to create ethical and just predictive modeling systems, we need to prioritize the need for diverse and inclusive development and implementation practices.**"
   ]
  },
  {
   "cell_type": "markdown",
   "id": "78ddee71-6e6c-4cf4-b1ba-61487c8c4db3",
   "metadata": {},
   "source": [
    "### Questions to ask Timnit Gebru"
   ]
  },
  {
   "cell_type": "markdown",
   "id": "7d632ca6-bdc6-4fe0-9ede-74bc19058353",
   "metadata": {},
   "source": [
    "- *How can we address the issue of biased data sets in computer vision technology, and what strategies can be used to prevent the continuation of systemic discrimination?*\n",
    "- *What role should companies and policymakers play in regulating the use of computer vision technology, and what policies and practices would you recommend?*\n",
    "- *Given the potential for danger/harm caused by computer vision technology, what ethical considerations should AI researchers keep in mind when designing and deploying these models?*\n",
    "- *Can you share any examples of organizations or initiatives that you believe are making progress in addressing the ethical implications of AI, and what we can learn from them?*\n",
    "- *How can we better educate the public about the ethical implications of computer vision technology, and what steps can be taken to increase awareness and engagement on this issue?*"
   ]
  },
  {
   "cell_type": "code",
   "execution_count": null,
   "id": "84facf8b-3ff3-45b2-be0d-e9498458df04",
   "metadata": {},
   "outputs": [],
   "source": []
  }
 ],
 "metadata": {
  "kernelspec": {
   "display_name": "Python [conda env:ml-0451] *",
   "language": "python",
   "name": "conda-env-ml-0451-py"
  },
  "language_info": {
   "codemirror_mode": {
    "name": "ipython",
    "version": 3
   },
   "file_extension": ".py",
   "mimetype": "text/x-python",
   "name": "python",
   "nbconvert_exporter": "python",
   "pygments_lexer": "ipython3",
   "version": "3.9.16"
  }
 },
 "nbformat": 4,
 "nbformat_minor": 5
}
