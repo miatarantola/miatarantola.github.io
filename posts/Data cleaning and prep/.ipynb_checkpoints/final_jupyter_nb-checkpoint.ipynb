{
 "cells": [
  {
   "cell_type": "markdown",
   "id": "b423aa18-22cc-487d-b426-f82874cae6fe",
   "metadata": {},
   "source": [
    "# Final Project: Urban Air Pollution Predicted by Income and Racial Demographics\n"
   ]
  },
  {
   "cell_type": "code",
   "execution_count": 1,
   "id": "8d97e61f-995e-4898-b7ce-e55491bb95ca",
   "metadata": {},
   "outputs": [],
   "source": [
    "from sklearn.model_selection import train_test_split\n",
    "import pandas as pd\n",
    "import numpy as np\n",
    "from sklearn.linear_model import LogisticRegression\n",
    "from matplotlib import pyplot as plt\n",
    "\n",
    "import plotly.express as px \n",
    "import plotly.io as pio\n",
    "pio.templates.default = \"plotly_white\"\n",
    "\n",
    "#check against other studies, check p values "
   ]
  },
  {
   "cell_type": "code",
   "execution_count": 2,
   "id": "cdbc7a3a-abc3-4490-92b1-3423d063578b",
   "metadata": {},
   "outputs": [],
   "source": [
    "import warnings\n",
    "warnings.filterwarnings('ignore')\n",
    "\n",
    "%load_ext autoreload\n",
    "%autoreload 2"
   ]
  },
  {
   "cell_type": "markdown",
   "id": "cbfb585c-7161-4229-9a36-ea4e3a8dd0a2",
   "metadata": {},
   "source": [
    "## Part One: Cleaning Data"
   ]
  },
  {
   "cell_type": "code",
   "execution_count": 3,
   "id": "256e65f2-e10f-487c-b236-1980cf99fbe4",
   "metadata": {},
   "outputs": [
    {
     "data": {
      "text/plain": [
       "0.8605200945626478"
      ]
     },
     "execution_count": 3,
     "metadata": {},
     "output_type": "execute_result"
    }
   ],
   "source": [
    "from dataCleaning import DatasetClass\n",
    "\n",
    "ds = DatasetClass()\n",
    "\n",
    "dataset = pd.read_csv(\"pollution_income_race.csv\")\n",
    "\n",
    "X_train, X_test, y_train, y_test = ds.train_test_data(dataset)\n",
    "\n",
    "base_rate = y_test.mean()\n",
    "\n",
    "base_rate"
   ]
  },
  {
   "cell_type": "code",
   "execution_count": 4,
   "id": "a6781a89-fa2b-4393-8c9b-1f7b593e1140",
   "metadata": {},
   "outputs": [
    {
     "data": {
      "text/html": [
       "<div>\n",
       "<style scoped>\n",
       "    .dataframe tbody tr th:only-of-type {\n",
       "        vertical-align: middle;\n",
       "    }\n",
       "\n",
       "    .dataframe tbody tr th {\n",
       "        vertical-align: top;\n",
       "    }\n",
       "\n",
       "    .dataframe thead th {\n",
       "        text-align: right;\n",
       "    }\n",
       "</style>\n",
       "<table border=\"1\" class=\"dataframe\">\n",
       "  <thead>\n",
       "    <tr style=\"text-align: right;\">\n",
       "      <th></th>\n",
       "      <th>State Code</th>\n",
       "      <th>County Code</th>\n",
       "      <th>Date Local</th>\n",
       "      <th>Median Household Income</th>\n",
       "      <th>Total Pop</th>\n",
       "      <th>Total Male %</th>\n",
       "      <th>Total Female %</th>\n",
       "      <th>White Alone (M) %</th>\n",
       "      <th>White Alone (F) %</th>\n",
       "      <th>Black Alone (M) %</th>\n",
       "      <th>Black Alone (F) %</th>\n",
       "      <th>Am Indian+AK Native Alone (M) %</th>\n",
       "      <th>Am Indian+AK Native Alone (F) %</th>\n",
       "      <th>Asian Alone (M) %</th>\n",
       "      <th>Asian Alone (F) %</th>\n",
       "      <th>Nat. HI and PI (M) %</th>\n",
       "      <th>Nat. HI and PI (F) %</th>\n",
       "      <th>TOM_MALE</th>\n",
       "    </tr>\n",
       "  </thead>\n",
       "  <tbody>\n",
       "    <tr>\n",
       "      <th>66</th>\n",
       "      <td>6</td>\n",
       "      <td>1</td>\n",
       "      <td>2002</td>\n",
       "      <td>113518.0</td>\n",
       "      <td>10021506</td>\n",
       "      <td>0.495390</td>\n",
       "      <td>0.504610</td>\n",
       "      <td>0.244432</td>\n",
       "      <td>0.238668</td>\n",
       "      <td>0.051896</td>\n",
       "      <td>0.056041</td>\n",
       "      <td>0.005613</td>\n",
       "      <td>0.005458</td>\n",
       "      <td>0.161241</td>\n",
       "      <td>0.171451</td>\n",
       "      <td>0.004578</td>\n",
       "      <td>0.004916</td>\n",
       "      <td>0.027631</td>\n",
       "    </tr>\n",
       "    <tr>\n",
       "      <th>835</th>\n",
       "      <td>32</td>\n",
       "      <td>3</td>\n",
       "      <td>2001</td>\n",
       "      <td>62496.0</td>\n",
       "      <td>13662646</td>\n",
       "      <td>0.500808</td>\n",
       "      <td>0.499192</td>\n",
       "      <td>0.349270</td>\n",
       "      <td>0.334776</td>\n",
       "      <td>0.065935</td>\n",
       "      <td>0.068644</td>\n",
       "      <td>0.006304</td>\n",
       "      <td>0.006135</td>\n",
       "      <td>0.048658</td>\n",
       "      <td>0.058518</td>\n",
       "      <td>0.004651</td>\n",
       "      <td>0.004758</td>\n",
       "      <td>0.025988</td>\n",
       "    </tr>\n",
       "    <tr>\n",
       "      <th>67</th>\n",
       "      <td>6</td>\n",
       "      <td>1</td>\n",
       "      <td>2003</td>\n",
       "      <td>113518.0</td>\n",
       "      <td>10021506</td>\n",
       "      <td>0.495390</td>\n",
       "      <td>0.504610</td>\n",
       "      <td>0.244432</td>\n",
       "      <td>0.238668</td>\n",
       "      <td>0.051896</td>\n",
       "      <td>0.056041</td>\n",
       "      <td>0.005613</td>\n",
       "      <td>0.005458</td>\n",
       "      <td>0.161241</td>\n",
       "      <td>0.171451</td>\n",
       "      <td>0.004578</td>\n",
       "      <td>0.004916</td>\n",
       "      <td>0.027631</td>\n",
       "    </tr>\n",
       "    <tr>\n",
       "      <th>447</th>\n",
       "      <td>6</td>\n",
       "      <td>95</td>\n",
       "      <td>2001</td>\n",
       "      <td>83678.0</td>\n",
       "      <td>2716962</td>\n",
       "      <td>0.501149</td>\n",
       "      <td>0.498851</td>\n",
       "      <td>0.300509</td>\n",
       "      <td>0.288954</td>\n",
       "      <td>0.074948</td>\n",
       "      <td>0.072824</td>\n",
       "      <td>0.006718</td>\n",
       "      <td>0.006442</td>\n",
       "      <td>0.076265</td>\n",
       "      <td>0.088328</td>\n",
       "      <td>0.005441</td>\n",
       "      <td>0.005261</td>\n",
       "      <td>0.037269</td>\n",
       "    </tr>\n",
       "    <tr>\n",
       "      <th>217</th>\n",
       "      <td>6</td>\n",
       "      <td>37</td>\n",
       "      <td>2012</td>\n",
       "      <td>75624.0</td>\n",
       "      <td>59665436</td>\n",
       "      <td>0.495714</td>\n",
       "      <td>0.504286</td>\n",
       "      <td>0.353743</td>\n",
       "      <td>0.349500</td>\n",
       "      <td>0.042930</td>\n",
       "      <td>0.046823</td>\n",
       "      <td>0.007591</td>\n",
       "      <td>0.007220</td>\n",
       "      <td>0.073381</td>\n",
       "      <td>0.082331</td>\n",
       "      <td>0.001828</td>\n",
       "      <td>0.001838</td>\n",
       "      <td>0.016241</td>\n",
       "    </tr>\n",
       "    <tr>\n",
       "      <th>...</th>\n",
       "      <td>...</td>\n",
       "      <td>...</td>\n",
       "      <td>...</td>\n",
       "      <td>...</td>\n",
       "      <td>...</td>\n",
       "      <td>...</td>\n",
       "      <td>...</td>\n",
       "      <td>...</td>\n",
       "      <td>...</td>\n",
       "      <td>...</td>\n",
       "      <td>...</td>\n",
       "      <td>...</td>\n",
       "      <td>...</td>\n",
       "      <td>...</td>\n",
       "      <td>...</td>\n",
       "      <td>...</td>\n",
       "      <td>...</td>\n",
       "      <td>...</td>\n",
       "    </tr>\n",
       "    <tr>\n",
       "      <th>1133</th>\n",
       "      <td>42</td>\n",
       "      <td>69</td>\n",
       "      <td>2002</td>\n",
       "      <td>56911.0</td>\n",
       "      <td>1294150</td>\n",
       "      <td>0.489517</td>\n",
       "      <td>0.510483</td>\n",
       "      <td>0.437606</td>\n",
       "      <td>0.461313</td>\n",
       "      <td>0.024152</td>\n",
       "      <td>0.021254</td>\n",
       "      <td>0.001740</td>\n",
       "      <td>0.001697</td>\n",
       "      <td>0.016049</td>\n",
       "      <td>0.016100</td>\n",
       "      <td>0.000323</td>\n",
       "      <td>0.000383</td>\n",
       "      <td>0.009646</td>\n",
       "    </tr>\n",
       "    <tr>\n",
       "      <th>1184</th>\n",
       "      <td>42</td>\n",
       "      <td>101</td>\n",
       "      <td>2005</td>\n",
       "      <td>55102.0</td>\n",
       "      <td>9562106</td>\n",
       "      <td>0.475856</td>\n",
       "      <td>0.524144</td>\n",
       "      <td>0.218985</td>\n",
       "      <td>0.226435</td>\n",
       "      <td>0.200090</td>\n",
       "      <td>0.235551</td>\n",
       "      <td>0.004473</td>\n",
       "      <td>0.004774</td>\n",
       "      <td>0.037813</td>\n",
       "      <td>0.041240</td>\n",
       "      <td>0.000867</td>\n",
       "      <td>0.000898</td>\n",
       "      <td>0.013629</td>\n",
       "    </tr>\n",
       "    <tr>\n",
       "      <th>1219</th>\n",
       "      <td>42</td>\n",
       "      <td>133</td>\n",
       "      <td>2000</td>\n",
       "      <td>71655.0</td>\n",
       "      <td>2743046</td>\n",
       "      <td>0.497499</td>\n",
       "      <td>0.502501</td>\n",
       "      <td>0.438321</td>\n",
       "      <td>0.443527</td>\n",
       "      <td>0.037588</td>\n",
       "      <td>0.036162</td>\n",
       "      <td>0.002079</td>\n",
       "      <td>0.001843</td>\n",
       "      <td>0.007190</td>\n",
       "      <td>0.008613</td>\n",
       "      <td>0.000395</td>\n",
       "      <td>0.000416</td>\n",
       "      <td>0.011926</td>\n",
       "    </tr>\n",
       "    <tr>\n",
       "      <th>924</th>\n",
       "      <td>36</td>\n",
       "      <td>103</td>\n",
       "      <td>2002</td>\n",
       "      <td>109084.0</td>\n",
       "      <td>9152726</td>\n",
       "      <td>0.495513</td>\n",
       "      <td>0.504487</td>\n",
       "      <td>0.416442</td>\n",
       "      <td>0.422438</td>\n",
       "      <td>0.043497</td>\n",
       "      <td>0.045976</td>\n",
       "      <td>0.003550</td>\n",
       "      <td>0.003241</td>\n",
       "      <td>0.021259</td>\n",
       "      <td>0.022082</td>\n",
       "      <td>0.000557</td>\n",
       "      <td>0.000519</td>\n",
       "      <td>0.010207</td>\n",
       "    </tr>\n",
       "    <tr>\n",
       "      <th>1215</th>\n",
       "      <td>42</td>\n",
       "      <td>129</td>\n",
       "      <td>2005</td>\n",
       "      <td>59349.0</td>\n",
       "      <td>2123436</td>\n",
       "      <td>0.493617</td>\n",
       "      <td>0.506383</td>\n",
       "      <td>0.464779</td>\n",
       "      <td>0.479903</td>\n",
       "      <td>0.014620</td>\n",
       "      <td>0.012278</td>\n",
       "      <td>0.000807</td>\n",
       "      <td>0.000656</td>\n",
       "      <td>0.004862</td>\n",
       "      <td>0.005320</td>\n",
       "      <td>0.000122</td>\n",
       "      <td>0.000111</td>\n",
       "      <td>0.008428</td>\n",
       "    </tr>\n",
       "  </tbody>\n",
       "</table>\n",
       "<p>858 rows × 18 columns</p>\n",
       "</div>"
      ],
      "text/plain": [
       "      State Code  County Code  Date Local  Median Household Income  Total Pop  \\\n",
       "66             6            1        2002                 113518.0   10021506   \n",
       "835           32            3        2001                  62496.0   13662646   \n",
       "67             6            1        2003                 113518.0   10021506   \n",
       "447            6           95        2001                  83678.0    2716962   \n",
       "217            6           37        2012                  75624.0   59665436   \n",
       "...          ...          ...         ...                      ...        ...   \n",
       "1133          42           69        2002                  56911.0    1294150   \n",
       "1184          42          101        2005                  55102.0    9562106   \n",
       "1219          42          133        2000                  71655.0    2743046   \n",
       "924           36          103        2002                 109084.0    9152726   \n",
       "1215          42          129        2005                  59349.0    2123436   \n",
       "\n",
       "      Total Male %  Total Female %  White Alone (M) %  White Alone (F) %  \\\n",
       "66        0.495390        0.504610           0.244432           0.238668   \n",
       "835       0.500808        0.499192           0.349270           0.334776   \n",
       "67        0.495390        0.504610           0.244432           0.238668   \n",
       "447       0.501149        0.498851           0.300509           0.288954   \n",
       "217       0.495714        0.504286           0.353743           0.349500   \n",
       "...            ...             ...                ...                ...   \n",
       "1133      0.489517        0.510483           0.437606           0.461313   \n",
       "1184      0.475856        0.524144           0.218985           0.226435   \n",
       "1219      0.497499        0.502501           0.438321           0.443527   \n",
       "924       0.495513        0.504487           0.416442           0.422438   \n",
       "1215      0.493617        0.506383           0.464779           0.479903   \n",
       "\n",
       "      Black Alone (M) %  Black Alone (F) %  Am Indian+AK Native Alone (M) %  \\\n",
       "66             0.051896           0.056041                         0.005613   \n",
       "835            0.065935           0.068644                         0.006304   \n",
       "67             0.051896           0.056041                         0.005613   \n",
       "447            0.074948           0.072824                         0.006718   \n",
       "217            0.042930           0.046823                         0.007591   \n",
       "...                 ...                ...                              ...   \n",
       "1133           0.024152           0.021254                         0.001740   \n",
       "1184           0.200090           0.235551                         0.004473   \n",
       "1219           0.037588           0.036162                         0.002079   \n",
       "924            0.043497           0.045976                         0.003550   \n",
       "1215           0.014620           0.012278                         0.000807   \n",
       "\n",
       "      Am Indian+AK Native Alone (F) %  Asian Alone (M) %  Asian Alone (F) %  \\\n",
       "66                           0.005458           0.161241           0.171451   \n",
       "835                          0.006135           0.048658           0.058518   \n",
       "67                           0.005458           0.161241           0.171451   \n",
       "447                          0.006442           0.076265           0.088328   \n",
       "217                          0.007220           0.073381           0.082331   \n",
       "...                               ...                ...                ...   \n",
       "1133                         0.001697           0.016049           0.016100   \n",
       "1184                         0.004774           0.037813           0.041240   \n",
       "1219                         0.001843           0.007190           0.008613   \n",
       "924                          0.003241           0.021259           0.022082   \n",
       "1215                         0.000656           0.004862           0.005320   \n",
       "\n",
       "      Nat. HI and PI (M) %  Nat. HI and PI (F) %  TOM_MALE  \n",
       "66                0.004578              0.004916  0.027631  \n",
       "835               0.004651              0.004758  0.025988  \n",
       "67                0.004578              0.004916  0.027631  \n",
       "447               0.005441              0.005261  0.037269  \n",
       "217               0.001828              0.001838  0.016241  \n",
       "...                    ...                   ...       ...  \n",
       "1133              0.000323              0.000383  0.009646  \n",
       "1184              0.000867              0.000898  0.013629  \n",
       "1219              0.000395              0.000416  0.011926  \n",
       "924               0.000557              0.000519  0.010207  \n",
       "1215              0.000122              0.000111  0.008428  \n",
       "\n",
       "[858 rows x 18 columns]"
      ]
     },
     "execution_count": 4,
     "metadata": {},
     "output_type": "execute_result"
    }
   ],
   "source": [
    "X_train"
   ]
  },
  {
   "cell_type": "markdown",
   "id": "4c59332e-186c-4a13-b340-6b8d582639ba",
   "metadata": {},
   "source": [
    "## Part Two: Determining Feature Importance"
   ]
  },
  {
   "cell_type": "markdown",
   "id": "561417de-a2c0-4cd8-a93e-6dc88f101fd8",
   "metadata": {},
   "source": [
    "Feature importance determines how much each feature impacts the AQI when increased by one factor with all other features held constant. What we find below determining feature importance in our data set is that each feature has a relatively low impact on AQI. As we continue training models, however, it is clear that these features together have a significant impact on AQI as they can predict AQI outcome with remarkable accuracy."
   ]
  },
  {
   "cell_type": "code",
   "execution_count": 5,
   "id": "3cab7c1d-4388-40a1-973d-a534881c41de",
   "metadata": {},
   "outputs": [],
   "source": [
    "from sklearn.ensemble import RandomForestClassifier\n",
    "\n",
    "def feature_importance(X_train, y_train):\n",
    "    \"\"\"\n",
    "    This function determines the feature importance of each feature in the dataset and sorts them\n",
    "    by importance using Random Forest and Gini import.\n",
    "    \"\"\"\n",
    "    \n",
    "    RF = RandomForestClassifier()\n",
    "    RF.fit(X_train, y_train)\n",
    "\n",
    "    #get importance\n",
    "    importances = pd.DataFrame(data = \n",
    "                               {'Attribute': X_train.columns,\n",
    "                                'Importance': RF.feature_importances_\n",
    "                               })\n",
    "\n",
    "    importances.sort_values('Importance')\n",
    "    \n",
    "    return importances\n",
    "\n",
    "importances = feature_importance(X_train, y_train)"
   ]
  },
  {
   "cell_type": "markdown",
   "id": "96a6e6aa-2485-43e0-a60d-1904356c3094",
   "metadata": {},
   "source": [
    "Below we see the results of the first 10 most important features; Date Local is the feature with the most impact on the AQI, followed by Median Household Income, State Code, Total Male % and then Total Female %. However, it is important to note that most feature importances are below approximately .005."
   ]
  },
  {
   "cell_type": "code",
   "execution_count": 6,
   "id": "2e00a95e-60ca-4b70-af4b-c07e827a5b01",
   "metadata": {},
   "outputs": [
    {
     "data": {
      "text/plain": [
       "Text(0.5, 1.0, 'Top 10 Features by Importance in Predicting AQI')"
      ]
     },
     "execution_count": 6,
     "metadata": {},
     "output_type": "execute_result"
    },
    {
     "data": {
      "image/png": "[encoded data removed]",
      "text/plain": [
       "<Figure size 640x480 with 1 Axes>"
      ]
     },
     "metadata": {},
     "output_type": "display_data"
    }
   ],
   "source": [
    "#plotting the importances in two batches\n",
    "\n",
    "#first batch\n",
    "importances10 = importances[0:10]\n",
    "plt.barh(y=importances10['Attribute'], width=importances10['Importance'], color='#087E8B')\n",
    "plt.title(\"Top 10 Features by Importance in Predicting AQI\")"
   ]
  },
  {
   "cell_type": "markdown",
   "id": "d8c3a648-7e48-4f97-9fd1-d7e696708a5b",
   "metadata": {},
   "source": [
    "Below we see the results of the final 8 features and their importances, all of which have very miniscule feature importance values. However, the next most important features all have to do with racial and ethnic demographics."
   ]
  },
  {
   "cell_type": "code",
   "execution_count": 7,
   "id": "291410b9-8140-42a5-a4eb-a64ef4ec7039",
   "metadata": {},
   "outputs": [
    {
     "data": {
      "text/plain": [
       "Text(0.5, 1.0, '11th-18th Most Important Features in Predicting AQI')"
      ]
     },
     "execution_count": 7,
     "metadata": {},
     "output_type": "execute_result"
    },
    {
     "data": {
      "image/png": "[encoded data removed]",
      "text/plain": [
       "<Figure size 640x480 with 1 Axes>"
      ]
     },
     "metadata": {},
     "output_type": "display_data"
    }
   ],
   "source": [
    "#second 8\n",
    "importances20 = importances[10:18]\n",
    "plt.barh(y=importances20['Attribute'], width=importances20['Importance'], color='#087E8B')\n",
    "plt.title(\"11th-18th Most Important Features in Predicting AQI\")"
   ]
  },
  {
   "cell_type": "markdown",
   "id": "f88388d0-aaca-4c0a-af7e-aad7bf287404",
   "metadata": {},
   "source": [
    "## Part Three: Looking at Accuracies of Different Models\n"
   ]
  },
  {
   "cell_type": "markdown",
   "id": "9e65d084-089c-4243-95c4-f4d8954deab5",
   "metadata": {},
   "source": [
    "### Logistic Regression"
   ]
  },
  {
   "cell_type": "code",
   "execution_count": 8,
   "id": "e4939290-72ca-4cdb-afb9-9292ef502490",
   "metadata": {},
   "outputs": [
    {
     "name": "stdout",
     "output_type": "stream",
     "text": [
      "Training Accuracy:\n",
      "0.8916083916083916\n",
      "Testing Accuracy:\n",
      "0.8605200945626478\n"
     ]
    }
   ],
   "source": [
    "from sklearn.linear_model import LogisticRegression \n",
    "\n",
    "LR = LogisticRegression()\n",
    "LR.fit(X_train, y_train)\n",
    "\n",
    "print(\"Training Accuracy:\")\n",
    "print(LR.score(X_train, y_train))\n",
    "\n",
    "print(\"Testing Accuracy:\")\n",
    "print(LR.score(X_test, y_test))\n",
    "\n"
   ]
  },
  {
   "cell_type": "markdown",
   "id": "63a4c294-f812-48be-a583-940ade2cba07",
   "metadata": {},
   "source": [
    "### Logistic Regression with Polynomial Features: Including Coefficients\n"
   ]
  },
  {
   "cell_type": "code",
   "execution_count": 9,
   "id": "bb65ab02-7707-4256-a518-ca9ffa981142",
   "metadata": {},
   "outputs": [
    {
     "name": "stdout",
     "output_type": "stream",
     "text": [
      "Training accuracy\n",
      "0.8916083916083916\n",
      "Testing accuracy\n",
      "0.8605200945626478\n"
     ]
    }
   ],
   "source": [
    "from sklearn.preprocessing import PolynomialFeatures\n",
    "from sklearn.pipeline import Pipeline\n",
    "\n",
    "def poly_LR(degree, **kwargs):\n",
    "    plr = Pipeline([(\"poly\", PolynomialFeatures(degree = degree)),\n",
    "                    (\"LR\", LogisticRegression(**kwargs))])\n",
    "    return plr\n",
    "\n",
    "    \n",
    "plr = poly_LR(degree = 2, max_iter = 1000000)\n",
    "plr.fit(X_train, y_train)\n",
    "print(\"Training accuracy\")\n",
    "print(plr.score(X_train, y_train))\n",
    "\n",
    "print(\"Testing accuracy\")\n",
    "print(plr.score(X_test, y_test))\n",
    "\n",
    "# check p values for statistical significance\n"
   ]
  },
  {
   "cell_type": "code",
   "execution_count": 10,
   "id": "56b98ba1-20e7-49c7-b8bb-e7e398ec9794",
   "metadata": {},
   "outputs": [
    {
     "name": "stdout",
     "output_type": "stream",
     "text": [
      "coefficients of model:\n",
      "\n",
      "[[ 1.11276049e-23  2.70910398e-22  8.13314987e-22  2.23670684e-20\n",
      "   8.26684574e-19  5.39082056e-17  5.49742047e-24  5.63018441e-24\n",
      "   4.02195097e-24  4.05052126e-24  7.24190483e-25  7.90383926e-25\n",
      "   1.21744623e-25  1.22740132e-25  4.17892468e-25  4.50642155e-25\n",
      "   1.62466672e-26  1.60424146e-26  1.95395261e-25  9.71212566e-21\n",
      "   2.50700099e-20  5.44539274e-19  1.86454545e-17  1.45297020e-15\n",
      "   1.33430573e-22  1.37479824e-22  9.84446728e-23  9.97724228e-23\n",
      "   1.94709841e-23  2.14792962e-23  3.46827391e-24  3.52705503e-24\n",
      "   7.51825966e-24  8.05513764e-24  3.01250434e-25  2.97962788e-25\n",
      "   4.22713223e-24  1.43266830e-19  1.63502000e-18  5.78155511e-17\n",
      "   4.15345765e-15  4.01429417e-22  4.11885570e-22  2.88552987e-22\n",
      "   2.89759055e-22  6.61993339e-23  7.31387587e-23  6.18024253e-24\n",
      "   6.09656620e-24  2.60848784e-23  2.81342168e-23  9.93723991e-25\n",
      "   9.77824669e-25  1.34182512e-23  4.49591622e-17  1.66155303e-15\n",
      "   1.08558323e-13  1.10500506e-20  1.13170178e-20  8.08389662e-21\n",
      "   8.14129212e-21  1.45638400e-21  1.58959645e-21  2.44551325e-22\n",
      "   2.46546663e-22  8.39891803e-22  9.05697398e-22  3.26519447e-23\n",
      "   3.22418227e-23  3.92674887e-22  6.61244745e-14  4.29264003e-12\n",
      "   4.08815969e-19  4.17868605e-19  2.95706079e-19  2.96932342e-19\n",
      "   5.12802683e-20  5.58143629e-20  7.55101537e-21  7.53315405e-21\n",
      "   3.78513109e-20  4.08672204e-20  1.33712125e-21  1.32296402e-21\n",
      "   1.50901738e-20 -5.28658863e-15  2.66261809e-17  2.72820247e-17\n",
      "   1.83622140e-17  1.83963709e-17  4.25957653e-18  4.72170679e-18\n",
      "   3.68358727e-19  3.65098769e-19  2.58360385e-18  2.72716918e-18\n",
      "   9.34460019e-20  9.33720194e-20  9.58981750e-19  2.71681158e-24\n",
      "   2.78060890e-24  1.99107317e-24  2.00439402e-24  3.53545372e-25\n",
      "   3.85272718e-25  6.03240610e-26  6.07964433e-26  2.07110314e-25\n",
      "   2.23334739e-25  8.07456117e-27  7.96878746e-27  9.66840967e-26\n",
      "   2.84957551e-24  2.03087780e-24  2.04612724e-24  3.70645111e-25\n",
      "   4.05111208e-25  6.14205623e-26  6.19436882e-26  2.10782154e-25\n",
      "   2.27307417e-25  8.17210604e-27  8.07362716e-27  9.87111639e-26\n",
      "   1.51557445e-24  1.52678208e-24  2.25714898e-25  2.42076340e-25\n",
      "   4.01434546e-26  4.02884157e-26  1.35841746e-25  1.46686648e-25\n",
      "   5.65389432e-27  5.54558986e-27  6.81447289e-26  1.53949921e-24\n",
      "   2.28391354e-25  2.45193625e-25  4.05067222e-26  4.06905004e-26\n",
      "   1.34738394e-25  1.45478580e-25  5.61679316e-27  5.51176904e-27\n",
      "   6.83586772e-26  8.57859440e-26  9.78042487e-26  4.18078631e-27\n",
      "   4.14999729e-27  2.56684716e-26  2.75557490e-26  8.56095847e-28\n",
      "   8.67239011e-28  1.13391764e-26  1.11912957e-25  4.30807725e-27\n",
      "   4.27218307e-27  2.79523239e-26  2.99685240e-26  9.02381923e-28\n",
      "   9.16969423e-28  1.22293461e-26  9.30551427e-27  9.66277486e-27\n",
      "   2.89481010e-27  3.11549022e-27  1.72160789e-28  1.58426833e-28\n",
      "   3.62733494e-27  1.00428990e-26  2.81972503e-27  3.03328287e-27\n",
      "   1.70767871e-28  1.56821478e-28  3.70476254e-27  3.27900863e-26\n",
      "   3.52132882e-26  9.65928808e-28  9.75541416e-28  8.94927094e-27\n",
      "   3.79065517e-26  1.04978000e-27  1.05971914e-27  9.71378340e-27\n",
      "   5.19867671e-29  5.17342386e-29  3.74494641e-28  5.17066089e-29\n",
      "   3.70256095e-28  4.24909098e-27]]\n",
      "biases of model:\n",
      "[1.11276049e-23]\n"
     ]
    }
   ],
   "source": [
    "print(\"coefficients of model:\")\n",
    "print()\n",
    "print(plr.named_steps['LR'].coef_)\n",
    "\n",
    "print(\"biases of model:\")\n",
    "print(plr.named_steps['LR'].intercept_)"
   ]
  },
  {
   "cell_type": "markdown",
   "id": "7b1d57b5-f539-4d83-896e-175bd7facb3d",
   "metadata": {},
   "source": [
    "### Support Vector Machine"
   ]
  },
  {
   "cell_type": "code",
   "execution_count": 12,
   "id": "f52ecef1-0f57-4d4f-81ce-3e49d7c3bfdc",
   "metadata": {},
   "outputs": [
    {
     "name": "stdout",
     "output_type": "stream",
     "text": [
      "Training Accuracy:\n",
      "0.9463869463869464\n",
      "Test accuracy\n",
      "0.9054373522458629\n"
     ]
    }
   ],
   "source": [
    "from sklearn.svm import SVC\n",
    "from sklearn.model_selection import cross_val_score\n",
    "\n",
    "svc = SVC(gamma = \"auto\") \n",
    "svc.fit(X_train, y_train)\n",
    "\n",
    "print(\"Training Accuracy:\")\n",
    "print(svc.score(X_train, y_train))\n",
    "\n",
    "print(\"Test accuracy\")\n",
    "print(svc.score(X_test, y_test))"
   ]
  },
  {
   "cell_type": "code",
   "execution_count": 13,
   "id": "2b492ccf-5cbc-443c-bc7a-7ae0e3f8aef8",
   "metadata": {},
   "outputs": [
    {
     "name": "stdout",
     "output_type": "stream",
     "text": [
      "0.9114096573208723 0.027777777777777776\n"
     ]
    }
   ],
   "source": [
    "best_score = -np.inf\n",
    "best_gamma = np.inf\n",
    "\n",
    "for gammas in 6**(np.arange(-4,4, dtype = float)):\n",
    "    svc = SVC(gamma = gammas)\n",
    "    scores = cross_val_score(svc, X_train, y_train,cv=8)\n",
    "    if scores.mean()>best_score:\n",
    "        best_score = scores.mean()\n",
    "        best_gamma = gammas\n",
    "        \n",
    "print(best_score, best_gamma)"
   ]
  },
  {
   "cell_type": "code",
   "execution_count": 14,
   "id": "98153848-88d5-4374-8bea-fb71e04f2447",
   "metadata": {},
   "outputs": [
    {
     "name": "stdout",
     "output_type": "stream",
     "text": [
      "training accuracy\n",
      "0.9358974358974359\n",
      "testing\n",
      "0.9054373522458629\n"
     ]
    }
   ],
   "source": [
    "svc_model = SVC(gamma = .027777777777777776)\n",
    "svc_model.fit(X_train,y_train)\n",
    "\n",
    "print(\"training accuracy\")\n",
    "print(svc_model.score(X_train,y_train))\n",
    "print(\"testing\")\n",
    "print(svc_model.score(X_test,y_test))"
   ]
  },
  {
   "cell_type": "markdown",
   "id": "aa28c561-fdda-4ce1-b5cb-631e630a6da8",
   "metadata": {},
   "source": [
    "### Decision Tree Classifier"
   ]
  },
  {
   "cell_type": "code",
   "execution_count": 15,
   "id": "693f2882-7bdf-4588-81cc-1d12d9f2443c",
   "metadata": {},
   "outputs": [
    {
     "name": "stdout",
     "output_type": "stream",
     "text": [
      "0.898525828460039 5\n"
     ]
    }
   ],
   "source": [
    "from sklearn.tree import DecisionTreeClassifier\n",
    "from sklearn.model_selection import cross_val_score\n",
    "\n",
    "best_score = -np.inf\n",
    "maximum = 0\n",
    "\n",
    "for depth in range(2,25):\n",
    "    tree = DecisionTreeClassifier(max_depth = depth)\n",
    "    #scores = cross_val_score(tree, X_train[subset], y_train, cv = 11)\n",
    "\n",
    "    scores = cross_val_score(tree, X_train, y_train, cv = 9)\n",
    "    if scores.mean() > best_score:\n",
    "        best_score = scores.mean()\n",
    "        maximum = depth\n",
    "print(best_score, maximum)"
   ]
  },
  {
   "cell_type": "code",
   "execution_count": 16,
   "id": "d6f6f2c1-e9e2-40ca-a2d7-f3b6a7c44e1e",
   "metadata": {},
   "outputs": [
    {
     "name": "stdout",
     "output_type": "stream",
     "text": [
      "training\n",
      "0.9335664335664335\n",
      "testing\n",
      "0.900709219858156\n"
     ]
    }
   ],
   "source": [
    "tree = DecisionTreeClassifier(max_depth = 5)\n",
    "tree.fit(X_train,y_train)\n",
    "print(\"training\")\n",
    "print(tree.score(X_train,y_train))\n",
    "print(\"testing\")\n",
    "print(tree.score(X_test,y_test))"
   ]
  },
  {
   "cell_type": "markdown",
   "id": "0e9c322c-d663-44ca-a295-854aa403b095",
   "metadata": {},
   "source": [
    "## Part 4: Visualization of Data"
   ]
  },
  {
   "cell_type": "markdown",
   "id": "e32bef34-ec75-416e-8904-b9ee513ebe46",
   "metadata": {},
   "source": [
    "First, let’s explore our data a bit by visualizing the AQI, Median Income, and some racial demographics using maps. (might want this at the begninng of the blog post)"
   ]
  },
  {
   "cell_type": "code",
   "execution_count": 19,
   "id": "8d2eb730-b6fa-4037-9d77-3e596be46f35",
   "metadata": {},
   "outputs": [
    {
     "data": {
      "text/html": [
       "<iframe\n",
       "    scrolling=\"no\"\n",
       "    width=\"100%\"\n",
       "    height=\"545px\"\n",
       "    src=\"iframe_figures/figure_19.html\"\n",
       "    frameborder=\"0\"\n",
       "    allowfullscreen\n",
       "></iframe>\n"
      ]
     },
     "metadata": {},
     "output_type": "display_data"
    }
   ],
   "source": [
    "import pandas as pd\n",
    "\n",
    "df = pd.read_csv(\"pollution_income_race.csv\")\n",
    "df = df.dropna()\n",
    "\n",
    "from geomapping import Mapping\n",
    "mp = Mapping()\n",
    "mp.plot_df(df,\"AQI Total\")"
   ]
  },
  {
   "cell_type": "code",
   "execution_count": 20,
   "id": "5c3c76e9-b538-4862-be9d-c65da17301f4",
   "metadata": {},
   "outputs": [
    {
     "data": {
      "text/html": [
       "<iframe\n",
       "    scrolling=\"no\"\n",
       "    width=\"100%\"\n",
       "    height=\"545px\"\n",
       "    src=\"iframe_figures/figure_20.html\"\n",
       "    frameborder=\"0\"\n",
       "    allowfullscreen\n",
       "></iframe>\n"
      ]
     },
     "metadata": {},
     "output_type": "display_data"
    }
   ],
   "source": [
    "mp.plot_df(df, \"Median Household Income\")"
   ]
  },
  {
   "cell_type": "code",
   "execution_count": 21,
   "id": "991c8835-e4ad-41e6-8b2e-90474049cf34",
   "metadata": {},
   "outputs": [
    {
     "data": {
      "text/html": [
       "<iframe\n",
       "    scrolling=\"no\"\n",
       "    width=\"100%\"\n",
       "    height=\"545px\"\n",
       "    src=\"iframe_figures/figure_21.html\"\n",
       "    frameborder=\"0\"\n",
       "    allowfullscreen\n",
       "></iframe>\n"
      ]
     },
     "metadata": {},
     "output_type": "display_data"
    }
   ],
   "source": [
    "mp.plot_df(df, \"black_alone_percent\")"
   ]
  },
  {
   "cell_type": "markdown",
   "id": "adc4f356-a3da-4425-9b93-9b71578659f9",
   "metadata": {},
   "source": [
    "## Our testing data"
   ]
  },
  {
   "cell_type": "markdown",
   "id": "1999d0db-1ef3-4e2a-85b2-e0fa96c5e5f7",
   "metadata": {},
   "source": [
    "Next, let’s visualize our binary predictions compared to the actual AQI (want to label these, zoom, etc)"
   ]
  },
  {
   "cell_type": "code",
   "execution_count": 22,
   "id": "cca26005-ed95-42af-b65a-e35a2411e071",
   "metadata": {},
   "outputs": [
    {
     "data": {
      "text/html": [
       "<iframe\n",
       "    scrolling=\"no\"\n",
       "    width=\"100%\"\n",
       "    height=\"545px\"\n",
       "    src=\"iframe_figures/figure_22.html\"\n",
       "    frameborder=\"0\"\n",
       "    allowfullscreen\n",
       "></iframe>\n"
      ]
     },
     "metadata": {},
     "output_type": "display_data"
    }
   ],
   "source": [
    "#creating dataframe with test data, labels, and predictions\n",
    "from copy import deepcopy\n",
    "test_combined = deepcopy(X_test)\n",
    "\n",
    "test_combined[\"Predicted AQI Binary\"] = svc_model.predict(X_test)\n",
    "test_combined[\"Actual AQI Binary\"] = y_test\n",
    "X_test.head()\n",
    "#plotting predictions\n",
    "\n",
    "mp.plot_df(test_combined, \"Predicted AQI Binary\")"
   ]
  },
  {
   "cell_type": "code",
   "execution_count": 23,
   "id": "2fc0399f-f989-4046-b188-e29b9612e1a0",
   "metadata": {},
   "outputs": [
    {
     "data": {
      "text/html": [
       "<iframe\n",
       "    scrolling=\"no\"\n",
       "    width=\"100%\"\n",
       "    height=\"545px\"\n",
       "    src=\"iframe_figures/figure_23.html\"\n",
       "    frameborder=\"0\"\n",
       "    allowfullscreen\n",
       "></iframe>\n"
      ]
     },
     "metadata": {},
     "output_type": "display_data"
    }
   ],
   "source": [
    "# #plotting actual \n",
    "mp.plot_df(test_combined, \"Actual AQI Binary\")"
   ]
  },
  {
   "cell_type": "markdown",
   "id": "cfba60fa-4981-43c0-8e4e-ae069b934d34",
   "metadata": {},
   "source": [
    "## Part 5: Analysis"
   ]
  },
  {
   "cell_type": "markdown",
   "id": "741001bd-8be3-458f-8d07-b871cd905461",
   "metadata": {},
   "source": [
    "The overall accuracy of the model was 0.9054373522458629\n",
    "\n",
    "To find the PPV of our model we first need to calculate the number of true positives and false positives. To do so, we compare the predicted labels to the test labels. If the predicted label is 1 and the acutal label is 1, then that is a true positive. If the predicted label is 1 and the true label is 0 that is a false positive."
   ]
  },
  {
   "cell_type": "code",
   "execution_count": 24,
   "id": "5d529b15-544f-4a80-af6f-88c0cf71cf87",
   "metadata": {},
   "outputs": [
    {
     "name": "stdout",
     "output_type": "stream",
     "text": [
      "The positive predictive value of this model is: 0.9112\n"
     ]
    }
   ],
   "source": [
    "TP = len((np.where((test_combined[\"Predicted AQI Binary\"]==1) & (test_combined[\"Actual AQI Binary\"]==1))[0]))\n",
    "FP = len((np.where((test_combined[\"Predicted AQI Binary\"]==1) & (test_combined[\"Actual AQI Binary\"]==0))[0]))\n",
    "PPV = round((TP)/(TP+FP),4)\n",
    "print(\"The positive predictive value of this model is: \" + str(PPV))"
   ]
  },
  {
   "cell_type": "markdown",
   "id": "784a7807-6fe7-4005-9175-50b79fd8a10f",
   "metadata": {},
   "source": [
    "The FPR represents the rate at which a test label of 0 is incorrectly predicted to be 1; or, when a high risk county is predicted to be a low risk count.\n",
    "\n",
    "The FNR represents the rate at which a test label of 1 is incorrectly predicted to be 0."
   ]
  },
  {
   "cell_type": "code",
   "execution_count": 26,
   "id": "8dacd798-cd48-4408-aba2-ffe9d4eef4b9",
   "metadata": {},
   "outputs": [
    {
     "name": "stdout",
     "output_type": "stream",
     "text": [
      "FPR = 0.5932203389830508\n",
      "FNR = 0.013736263736263736\n"
     ]
    }
   ],
   "source": [
    "from sklearn.metrics import confusion_matrix\n",
    "conf_matrix = confusion_matrix(test_combined[\"Actual AQI Binary\"],test_combined[\"Predicted AQI Binary\"], normalize = 'true')\n",
    "print(\"FPR = \" + str(conf_matrix[0][1]))\n",
    "print(\"FNR = \" + str(conf_matrix[1][0])) "
   ]
  },
  {
   "cell_type": "markdown",
   "id": "fd36262a-21d6-48f0-9d7c-7be9f42aaac4",
   "metadata": {},
   "source": [
    "## By Group Metrics: Income"
   ]
  },
  {
   "cell_type": "markdown",
   "id": "d01faa12-2372-4db2-8618-5cc71b37d420",
   "metadata": {},
   "source": [
    "First we will divide the data set into high income and low income counties. Counties where the median household incomw is more than $73,125 (mean) will be marked as high income (1) and under this threshold will be marked a lower income (0)"
   ]
  },
  {
   "cell_type": "code",
   "execution_count": 27,
   "id": "06dd3dc5-e5d4-4048-8a14-9b40e6bdd52c",
   "metadata": {},
   "outputs": [],
   "source": [
    "test_combined.loc[test_combined[\"Median Household Income\"] <=73125,\"High Income\"]=0\n",
    "test_combined.loc[test_combined[\"Median Household Income\"] >73125,\"High Income\"]=1\n",
    "medIncome = test_combined[\"High Income\"]"
   ]
  },
  {
   "cell_type": "code",
   "execution_count": 28,
   "id": "a42cbecc-5ba3-4ed8-8b81-99cd0e83fee5",
   "metadata": {},
   "outputs": [
    {
     "name": "stdout",
     "output_type": "stream",
     "text": [
      "The accuracy for high income counties is 0.9653\n",
      "The accuracy for low income counties is 0.864\n"
     ]
    }
   ],
   "source": [
    "print(\"The accuracy for high income counties is \" + str((test_combined[\"Predicted AQI Binary\"]==test_combined[\"Actual AQI Binary\"])[medIncome==1].mean().round(4)))\n",
    "print(\"The accuracy for low income counties is \" + str((test_combined[\"Predicted AQI Binary\"]==test_combined[\"Actual AQI Binary\"])[medIncome==0].mean().round(4)))"
   ]
  },
  {
   "cell_type": "markdown",
   "id": "19b98ef4-1f94-4d64-8765-4efeaa27a8cf",
   "metadata": {},
   "source": [
    "Now we will compare some of the accuracy metrics such as the false positive rate and the false negative rate. Ideally, the values for each group will be about equal.\n",
    "\n"
   ]
  },
  {
   "cell_type": "code",
   "execution_count": 29,
   "id": "8f0cd6c6-9991-4273-ab12-70b0717b495c",
   "metadata": {},
   "outputs": [
    {
     "name": "stdout",
     "output_type": "stream",
     "text": [
      "FPR for high income counties = 50.0\n",
      "FNR for high income counties = 0.61\n",
      "FPR for low income counties = 61.22\n",
      "FNR for low income counties = 1.9900000000000002\n"
     ]
    }
   ],
   "source": [
    "conf_matrix_high_norm = confusion_matrix(test_combined[\"Actual AQI Binary\"][medIncome==1],test_combined[\"Predicted AQI Binary\"][medIncome==1], normalize = 'true')\n",
    "print(\"FPR for high income counties = \" + str(conf_matrix_high_norm[0][1].round(4) * 100))\n",
    "print(\"FNR for high income counties = \" + str(conf_matrix_high_norm[1][0].round(4) *100)) \n",
    "\n",
    "conf_matrix_low_norm = confusion_matrix(test_combined[\"Actual AQI Binary\"][medIncome==0],test_combined[\"Predicted AQI Binary\"][medIncome==0], normalize = 'true')\n",
    "print(\"FPR for low income counties = \" + str(conf_matrix_low_norm[0][1].round(4) *100))\n",
    "print(\"FNR for low income counties = \" + str(conf_matrix_low_norm[1][0].round(4) *100))"
   ]
  },
  {
   "cell_type": "markdown",
   "id": "78238033-bf12-4ca2-b1f3-feeed9c40ca1",
   "metadata": {},
   "source": [
    "## Bias measures for income"
   ]
  },
  {
   "cell_type": "markdown",
   "id": "f33e879d-eab1-4edf-9082-b5631e800b31",
   "metadata": {},
   "source": [
    "Calibration means that the fraction of predicted counties to have a AQI binary score of 1 (low risk) is the same across all income groups. So we will calculate this metric for both income groups. This metric can be calculated by dividing the number of true positives by the total number of predicted positives."
   ]
  },
  {
   "cell_type": "code",
   "execution_count": 31,
   "id": "107f528a-16f5-4d05-9cf7-e3b3238b6fa8",
   "metadata": {},
   "outputs": [
    {
     "name": "stdout",
     "output_type": "stream",
     "text": [
      "The percentage of high income counties predicted to have a low risk AQI who actually had a low risk AQI is 50.0\n",
      "The percentage of low income counties predicted to have a low risk AQI who actually had a low risk AQI is 38.78\n"
     ]
    }
   ],
   "source": [
    "\n",
    "high_income_calibration = confusion_matrix(test_combined[\"Actual AQI Binary\"][medIncome==1],test_combined[\"Predicted AQI Binary\"][medIncome==1])[0][0]/(confusion_matrix(test_combined[\"Actual AQI Binary\"][medIncome==1],test_combined[\"Predicted AQI Binary\"][medIncome==1])[0].sum())\n",
    "low_income_calibration = confusion_matrix(test_combined[\"Actual AQI Binary\"][medIncome==0],test_combined[\"Predicted AQI Binary\"][medIncome==0])[0][0]/(confusion_matrix(test_combined[\"Actual AQI Binary\"][medIncome==0],test_combined[\"Predicted AQI Binary\"][medIncome==0])[0].sum())\n",
    "\n",
    "print(\"The percentage of high income counties predicted to have a low risk AQI who actually had a low risk AQI is \" + str(high_income_calibration.round(4)*100))\n",
    "print(\"The percentage of low income counties predicted to have a low risk AQI who actually had a low risk AQI is \" + str(low_income_calibration.round(4)*100))\n",
    "\n",
    "\n"
   ]
  },
  {
   "cell_type": "markdown",
   "id": "59147a58-d037-4a38-a4c7-9331785c162e",
   "metadata": {},
   "source": [
    "This model is not calibrated as the percentages are very different. There is a 11.2% difference\n",
    "\n",
    "A model satisfies error rate balance if the false positive and false negative rates are equal across groups. Looking at the previously calculated FPR anf FNR, I would say that this model does not satisfy error rate balance. The FPR for high income counties is 50%, while the FPR for low income counties is 61.22%. The difference between the two rates is 10.1%. In general, the high FPR may stem from a lack of positive observation in the training data itself.\n",
    "\n",
    "A model satisifes statistical parity if the proportion of counties classified as having a low risk AQI is the same for each group. So we compare the total number of predicted positives."
   ]
  },
  {
   "cell_type": "code",
   "execution_count": 32,
   "id": "d01cddee-fc85-44e9-8985-895ed74f8fb1",
   "metadata": {},
   "outputs": [
    {
     "name": "stdout",
     "output_type": "stream",
     "text": [
      "The proportion of low income counties classified as having a low risk AQI is 0.196\n",
      "The proportion of high income counties classified as having a low risk AQI is 0.057803468208092484\n"
     ]
    }
   ],
   "source": [
    "print(\"The proportion of low income counties classified as having a low risk AQI is \" + str((confusion_matrix(test_combined[\"Actual AQI Binary\"][medIncome==0],test_combined[\"Actual AQI Binary\"][medIncome==0])[0].sum())/(medIncome==0).sum()))\n",
    "print(\"The proportion of high income counties classified as having a low risk AQI is \" + str((confusion_matrix(test_combined[\"Actual AQI Binary\"][medIncome==1],test_combined[\"Actual AQI Binary\"][medIncome==1])[0].sum())/(medIncome==1).sum()))\n",
    "\n"
   ]
  },
  {
   "cell_type": "markdown",
   "id": "e82d2705-f387-4840-a02c-c2a3cbc59565",
   "metadata": {},
   "source": [
    "This model does not satisfy statistical parity. The proportion of counties predictied to have a low risk AQI is not the same for low and high income areas. The is a 14% difference between the two groups."
   ]
  },
  {
   "cell_type": "markdown",
   "id": "59b4fdf3-4853-4e44-b545-567ddf8ebef9",
   "metadata": {},
   "source": [
    "## By Group Measures: Race"
   ]
  },
  {
   "cell_type": "markdown",
   "id": "a9a0267a-4d01-42b3-b519-43e508f1da35",
   "metadata": {},
   "source": [
    "The data set will first be split into two halves. One set of counties is designated (1), where white people make up the majority of its residents. Additionally, counties without a significant white majority are denoted with a 0."
   ]
  },
  {
   "cell_type": "code",
   "execution_count": 34,
   "id": "9b4a3d0b-158f-496d-984e-1191b2f52bd4",
   "metadata": {},
   "outputs": [],
   "source": [
    "test_combined.loc[(test_combined[\"White Alone (M) %\"]+test_combined[\"White Alone (F) %\"])<=.50,\"Majority White\"]=0\n",
    "test_combined.loc[(test_combined[\"White Alone (M) %\"]+test_combined[\"White Alone (F) %\"])>.50,\"Majority White\"]=1\n",
    "\n",
    "majority_white = test_combined[\"Majority White\"]\n",
    "                                                 \n",
    "                                                 "
   ]
  },
  {
   "cell_type": "code",
   "execution_count": 35,
   "id": "370f3a07-6fed-4dd5-9d34-f35d74a4560a",
   "metadata": {},
   "outputs": [
    {
     "name": "stdout",
     "output_type": "stream",
     "text": [
      "The accuracy for counties with a white majority population is 0.9122\n",
      "The accuracy for counties without a white majority population is 0.8511\n"
     ]
    }
   ],
   "source": [
    "print(\"The accuracy for counties with a white majority population is \" + str((test_combined[\"Predicted AQI Binary\"]==test_combined[\"Actual AQI Binary\"])[majority_white==1].mean().round(4)))\n",
    "print(\"The accuracy for counties without a white majority population is \" + str((test_combined[\"Predicted AQI Binary\"]==test_combined[\"Actual AQI Binary\"])[majority_white==0].mean().round(4)))"
   ]
  },
  {
   "cell_type": "markdown",
   "id": "13b79690-42ad-4d4c-9561-3466aa57d080",
   "metadata": {},
   "source": [
    "Now we will compare some of the accuracy metrics such as the false positive rate and the false negative rate. Ideally the metrics will be about equal across the different demographic groups"
   ]
  },
  {
   "cell_type": "code",
   "execution_count": 36,
   "id": "8ffd57a1-b34e-4894-8a35-1cf3e1c85e15",
   "metadata": {},
   "outputs": [
    {
     "name": "stdout",
     "output_type": "stream",
     "text": [
      "FPR for counties with a majority white population = 0.58\n",
      "FNR for counties with a majority white population = 0.0123\n",
      "FPR for counties without a majority white population = 0.6122\n",
      "FNR for counties without a majority white population = 0.0199\n"
     ]
    }
   ],
   "source": [
    "conf_matrix_major_white_norm = confusion_matrix(test_combined[\"Actual AQI Binary\"][majority_white==1],test_combined[\"Predicted AQI Binary\"][majority_white==1], normalize = 'true')\n",
    "print(\"FPR for counties with a majority white population = \" + str(conf_matrix_major_white_norm[0][1].round(4) ))\n",
    "print(\"FNR for counties with a majority white population = \" + str(conf_matrix_major_white_norm[1][0].round(4))) \n",
    "\n",
    "conf_matrix_nonmajor_white_norm = confusion_matrix(test_combined[\"Actual AQI Binary\"][majority_white==0],test_combined[\"Predicted AQI Binary\"][majority_white==0], normalize = 'true')\n",
    "print(\"FPR for counties without a majority white population = \" + str(conf_matrix_low_norm[0][1].round(4)))\n",
    "print(\"FNR for counties without a majority white population = \" + str(conf_matrix_low_norm[1][0].round(4)))"
   ]
  },
  {
   "cell_type": "markdown",
   "id": "bf57bcfb-3978-44e4-b5b0-17ae3498ed66",
   "metadata": {},
   "source": [
    "## Bias measures for race"
   ]
  },
  {
   "cell_type": "markdown",
   "id": "2ebc29ae-c517-43b7-8d29-2b0d5f67dc47",
   "metadata": {},
   "source": [
    "Calibration means that the fraction of predicted counties to have a AQI binary score of 1 (low risk) is the same across all demographic groups. So we will calculate this metric for both demographics groups. This metric can be calculated by dividing the number of true positives by the total number of predicted positives."
   ]
  },
  {
   "cell_type": "code",
   "execution_count": 38,
   "id": "f7d20457-e240-4201-8db0-99c6dd15d8de",
   "metadata": {},
   "outputs": [
    {
     "name": "stdout",
     "output_type": "stream",
     "text": [
      "The percentage of counties without a majority white population predicted have a low risk AQI who actually had a low risk AQI is 33.33\n",
      "The percentage of counties with a majority white population predicted have a low risk AQI who actually had a low risk AQI is 42.0\n"
     ]
    }
   ],
   "source": [
    "majority_calibration = confusion_matrix(test_combined[\"Actual AQI Binary\"][majority_white==1],test_combined[\"Predicted AQI Binary\"][majority_white==1])[0][0]/(confusion_matrix(test_combined[\"Actual AQI Binary\"][majority_white==1],test_combined[\"Predicted AQI Binary\"][majority_white==1])[0].sum())\n",
    "nonmajority_calibration = confusion_matrix(test_combined[\"Actual AQI Binary\"][majority_white==0],test_combined[\"Predicted AQI Binary\"][majority_white==0])[0][0]/(confusion_matrix(test_combined[\"Actual AQI Binary\"][majority_white==0],test_combined[\"Predicted AQI Binary\"][majority_white==0])[0].sum())\n",
    "\n",
    "print(\"The percentage of counties without a majority white population predicted have a low risk AQI who actually had a low risk AQI is \" + str(nonmajority_calibration.round(4)*100))\n",
    "print(\"The percentage of counties with a majority white population predicted have a low risk AQI who actually had a low risk AQI is \" + str(majority_calibration.round(4)*100))\n"
   ]
  },
  {
   "cell_type": "markdown",
   "id": "cbbe3835-8d8b-4124-8862-e0989bc7dc3b",
   "metadata": {},
   "source": [
    "This model is not calibrated as the percentages are very different. There is a 9% difference\n",
    "\n",
    "A model satisfies error rate balance if the false positive and false negative rates are equal across groups. Looking at the previously calculated FPR anf FNR, I would say that this model does not satisfy error rate balance. The FPR for counties with a majority white population is 58%, while the FPR for counties without a majority white population is 61%.\n",
    "\n",
    "A model satisifes statistical parity if the proportion of counties classified as having a low risk AQI is the same for each group. So we compare the total number of predicted positives.\n",
    "\n"
   ]
  },
  {
   "cell_type": "code",
   "execution_count": 39,
   "id": "fab98a10-6440-4067-a38e-a5e3a229ebbb",
   "metadata": {},
   "outputs": [
    {
     "name": "stdout",
     "output_type": "stream",
     "text": [
      "The proportion of counties with a majority white population classified as having a low risk AQI is 0.13297872340425532\n",
      "The proportion of counties without a majority white population classified as having a low risk AQI is 0.19148936170212766\n"
     ]
    }
   ],
   "source": [
    "print(\"The proportion of counties with a majority white population classified as having a low risk AQI is \" + str((confusion_matrix(test_combined[\"Actual AQI Binary\"][majority_white==1],test_combined[\"Actual AQI Binary\"][majority_white==1])[0].sum())/(majority_white==1).sum()))\n",
    "print(\"The proportion of counties without a majority white population classified as having a low risk AQI is \" + str((confusion_matrix(test_combined[\"Actual AQI Binary\"][majority_white==0],test_combined[\"Actual AQI Binary\"][majority_white==0])[0].sum())/(majority_white==0).sum()))"
   ]
  },
  {
   "cell_type": "markdown",
   "id": "e69c53a2-0e3c-421c-8a28-a18001726b1c",
   "metadata": {},
   "source": [
    "These values are roughly the same, so I would say that this model satisfies statistical parity."
   ]
  },
  {
   "cell_type": "code",
   "execution_count": null,
   "id": "23b3c9c8-3646-493d-8d6d-d4120670648c",
   "metadata": {},
   "outputs": [],
   "source": []
  }
 ],
 "metadata": {
  "kernelspec": {
   "display_name": "Python [conda env:ml-0451] *",
   "language": "python",
   "name": "conda-env-ml-0451-py"
  },
  "language_info": {
   "codemirror_mode": {
    "name": "ipython",
    "version": 3
   },
   "file_extension": ".py",
   "mimetype": "text/x-python",
   "name": "python",
   "nbconvert_exporter": "python",
   "pygments_lexer": "ipython3",
   "version": "3.9.16"
  }
 },
 "nbformat": 4,
 "nbformat_minor": 5
}
