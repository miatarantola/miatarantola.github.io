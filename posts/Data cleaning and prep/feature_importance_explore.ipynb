{
 "cells": [
  {
   "cell_type": "code",
   "execution_count": 3,
   "id": "58020a3b",
   "metadata": {},
   "outputs": [],
   "source": [
    "import warnings\n",
    "warnings.filterwarnings('ignore')"
   ]
  },
  {
   "cell_type": "code",
   "execution_count": 4,
   "id": "ceb8c2b6",
   "metadata": {},
   "outputs": [],
   "source": [
    "from sklearn.model_selection import train_test_split\n",
    "import pandas as pd\n",
    "import numpy as np\n",
    "\n",
    "#for the map\n",
    "#geo pandas, store in dataframe but it is geo referenced to right places\n",
    "# we can do this to try and predict good / bad air quality index for places in the united states \n",
    "# based on our model this is so interesting , we can also maybe try and look it at other\n",
    "# have county codes and predictions, geo reference data frame that makes map, combine on county codes "
   ]
  },
  {
   "cell_type": "markdown",
   "id": "c8c7b7aa",
   "metadata": {},
   "source": [
    "## What We can Learn from the Following / Reasoning behind it all: Logistic Regression\n",
    "\n",
    "Step one was cleaning the data; getting a binary AQI value for our training data, using logistic regression here to begin. Dropping all of the values that play into total AQI as well as categorical data such as state, county, and city. Looking at exclusively different race percentages and household income. \n",
    "\n",
    "When we tested for feature importance in Logistic Regression, Household income had the biggest impact. This means we should be looking at household income as it relates to urban pollution, as well as the next most important factors which were state code, county code, total population, percent male, percent female, and then percentages of white alone. \n",
    "\n",
    "I also dropped non-city data to specifically look at urban pollution. \n",
    "\n",
    "Going to continue by looking at what happens with different models. "
   ]
  },
  {
   "cell_type": "code",
   "execution_count": 5,
   "id": "6d0ff353",
   "metadata": {},
   "outputs": [],
   "source": [
    "#place holder until we get dataset ready\n",
    "\n",
    "data = pd.read_csv(\"pollution_income_race.csv\")\n",
    "\n",
    "data = data[data[\"City\"] != \"Not in a city\"]\n",
    "\n",
    "data[\"AQI Binary\"] = 1 * (data[\"AQI Total\"] <= 100)\n",
    "\n",
    "#our labels are the AQI Binary for now\n",
    "y = data.loc[:,\"AQI Binary\"]\n",
    "\n",
    "#also going to drop states and cities for now, (and city) because we don't get a numerical from that\n",
    "data = data.drop(columns=[\"State_x\", \n",
    "                          \"County_x\",\n",
    "                          \"City\",\n",
    "                           \"State_y\", \n",
    "                          \"County_y\", \n",
    "                          \"AQI Total\", \n",
    "                          \"AQI Binary\"])\n",
    "\n",
    "#finally, drop those features that directly contribute to AQI (i.e. NO2 Mean, NO2 1st Max Value)\n",
    "data = data.drop(columns=[\"NO2 Mean\",\n",
    "                         \"NO2 1st Max Value\",\n",
    "                         \"NO2 1st Max Hour\",\n",
    "                         \"NO2 AQI\",\n",
    "                         \"O3 Mean\",\n",
    "                         \"O3 1st Max Value\",\n",
    "                         \"O3 1st Max Hour\",\n",
    "                         \"O3 AQI\",\n",
    "                         \"SO2 Mean\",\n",
    "                         \"SO2 1st Max Value\",\n",
    "                         \"SO2 1st Max Hour\",\n",
    "                         \"SO2 AQI\",\n",
    "                         \"CO Mean\",\n",
    "                         \"CO 1st Max Value\",\n",
    "                         \"CO 1st Max Hour\",\n",
    "                         \"CO AQI\"])\n",
    "\n",
    "#train and test data\n",
    "X_train, X_test, y_train, y_test = train_test_split(data, y, test_size=0.33, random_state=42)"
   ]
  },
  {
   "cell_type": "code",
   "execution_count": 6,
   "id": "e9ac2b85",
   "metadata": {},
   "outputs": [
    {
     "data": {
      "text/html": [
       "<div>\n",
       "<style scoped>\n",
       "    .dataframe tbody tr th:only-of-type {\n",
       "        vertical-align: middle;\n",
       "    }\n",
       "\n",
       "    .dataframe tbody tr th {\n",
       "        vertical-align: top;\n",
       "    }\n",
       "\n",
       "    .dataframe thead th {\n",
       "        text-align: right;\n",
       "    }\n",
       "</style>\n",
       "<table border=\"1\" class=\"dataframe\">\n",
       "  <thead>\n",
       "    <tr style=\"text-align: right;\">\n",
       "      <th></th>\n",
       "      <th>State Code</th>\n",
       "      <th>County Code</th>\n",
       "      <th>Date Local</th>\n",
       "      <th>Median Household Income</th>\n",
       "      <th>Total Pop</th>\n",
       "      <th>Total Male %</th>\n",
       "      <th>Total Female %</th>\n",
       "      <th>White Alone (M) %</th>\n",
       "      <th>White Alone (F) %</th>\n",
       "      <th>Black Alone (M) %</th>\n",
       "      <th>Black Alone (F) %</th>\n",
       "      <th>Am Indian+AK Native Alone (M) %</th>\n",
       "      <th>Am Indian+AK Native Alone (F) %</th>\n",
       "      <th>Asian Alone (M) %</th>\n",
       "      <th>Asian Alone (F) %</th>\n",
       "      <th>Nat. HI and PI (M) %</th>\n",
       "      <th>Nat. HI and PI (F) %</th>\n",
       "      <th>TOM_MALE</th>\n",
       "    </tr>\n",
       "  </thead>\n",
       "  <tbody>\n",
       "    <tr>\n",
       "      <th>66</th>\n",
       "      <td>6</td>\n",
       "      <td>1</td>\n",
       "      <td>2002</td>\n",
       "      <td>113518.0</td>\n",
       "      <td>10021506</td>\n",
       "      <td>0.495390</td>\n",
       "      <td>0.504610</td>\n",
       "      <td>0.244432</td>\n",
       "      <td>0.238668</td>\n",
       "      <td>0.051896</td>\n",
       "      <td>0.056041</td>\n",
       "      <td>0.005613</td>\n",
       "      <td>0.005458</td>\n",
       "      <td>0.161241</td>\n",
       "      <td>0.171451</td>\n",
       "      <td>0.004578</td>\n",
       "      <td>0.004916</td>\n",
       "      <td>0.027631</td>\n",
       "    </tr>\n",
       "    <tr>\n",
       "      <th>835</th>\n",
       "      <td>32</td>\n",
       "      <td>3</td>\n",
       "      <td>2001</td>\n",
       "      <td>62496.0</td>\n",
       "      <td>13662646</td>\n",
       "      <td>0.500808</td>\n",
       "      <td>0.499192</td>\n",
       "      <td>0.349270</td>\n",
       "      <td>0.334776</td>\n",
       "      <td>0.065935</td>\n",
       "      <td>0.068644</td>\n",
       "      <td>0.006304</td>\n",
       "      <td>0.006135</td>\n",
       "      <td>0.048658</td>\n",
       "      <td>0.058518</td>\n",
       "      <td>0.004651</td>\n",
       "      <td>0.004758</td>\n",
       "      <td>0.025988</td>\n",
       "    </tr>\n",
       "    <tr>\n",
       "      <th>67</th>\n",
       "      <td>6</td>\n",
       "      <td>1</td>\n",
       "      <td>2003</td>\n",
       "      <td>113518.0</td>\n",
       "      <td>10021506</td>\n",
       "      <td>0.495390</td>\n",
       "      <td>0.504610</td>\n",
       "      <td>0.244432</td>\n",
       "      <td>0.238668</td>\n",
       "      <td>0.051896</td>\n",
       "      <td>0.056041</td>\n",
       "      <td>0.005613</td>\n",
       "      <td>0.005458</td>\n",
       "      <td>0.161241</td>\n",
       "      <td>0.171451</td>\n",
       "      <td>0.004578</td>\n",
       "      <td>0.004916</td>\n",
       "      <td>0.027631</td>\n",
       "    </tr>\n",
       "    <tr>\n",
       "      <th>447</th>\n",
       "      <td>6</td>\n",
       "      <td>95</td>\n",
       "      <td>2001</td>\n",
       "      <td>83678.0</td>\n",
       "      <td>2716962</td>\n",
       "      <td>0.501149</td>\n",
       "      <td>0.498851</td>\n",
       "      <td>0.300509</td>\n",
       "      <td>0.288954</td>\n",
       "      <td>0.074948</td>\n",
       "      <td>0.072824</td>\n",
       "      <td>0.006718</td>\n",
       "      <td>0.006442</td>\n",
       "      <td>0.076265</td>\n",
       "      <td>0.088328</td>\n",
       "      <td>0.005441</td>\n",
       "      <td>0.005261</td>\n",
       "      <td>0.037269</td>\n",
       "    </tr>\n",
       "    <tr>\n",
       "      <th>217</th>\n",
       "      <td>6</td>\n",
       "      <td>37</td>\n",
       "      <td>2012</td>\n",
       "      <td>75624.0</td>\n",
       "      <td>59665436</td>\n",
       "      <td>0.495714</td>\n",
       "      <td>0.504286</td>\n",
       "      <td>0.353743</td>\n",
       "      <td>0.349500</td>\n",
       "      <td>0.042930</td>\n",
       "      <td>0.046823</td>\n",
       "      <td>0.007591</td>\n",
       "      <td>0.007220</td>\n",
       "      <td>0.073381</td>\n",
       "      <td>0.082331</td>\n",
       "      <td>0.001828</td>\n",
       "      <td>0.001838</td>\n",
       "      <td>0.016241</td>\n",
       "    </tr>\n",
       "    <tr>\n",
       "      <th>...</th>\n",
       "      <td>...</td>\n",
       "      <td>...</td>\n",
       "      <td>...</td>\n",
       "      <td>...</td>\n",
       "      <td>...</td>\n",
       "      <td>...</td>\n",
       "      <td>...</td>\n",
       "      <td>...</td>\n",
       "      <td>...</td>\n",
       "      <td>...</td>\n",
       "      <td>...</td>\n",
       "      <td>...</td>\n",
       "      <td>...</td>\n",
       "      <td>...</td>\n",
       "      <td>...</td>\n",
       "      <td>...</td>\n",
       "      <td>...</td>\n",
       "      <td>...</td>\n",
       "    </tr>\n",
       "    <tr>\n",
       "      <th>1133</th>\n",
       "      <td>42</td>\n",
       "      <td>69</td>\n",
       "      <td>2002</td>\n",
       "      <td>56911.0</td>\n",
       "      <td>1294150</td>\n",
       "      <td>0.489517</td>\n",
       "      <td>0.510483</td>\n",
       "      <td>0.437606</td>\n",
       "      <td>0.461313</td>\n",
       "      <td>0.024152</td>\n",
       "      <td>0.021254</td>\n",
       "      <td>0.001740</td>\n",
       "      <td>0.001697</td>\n",
       "      <td>0.016049</td>\n",
       "      <td>0.016100</td>\n",
       "      <td>0.000323</td>\n",
       "      <td>0.000383</td>\n",
       "      <td>0.009646</td>\n",
       "    </tr>\n",
       "    <tr>\n",
       "      <th>1184</th>\n",
       "      <td>42</td>\n",
       "      <td>101</td>\n",
       "      <td>2005</td>\n",
       "      <td>55102.0</td>\n",
       "      <td>9562106</td>\n",
       "      <td>0.475856</td>\n",
       "      <td>0.524144</td>\n",
       "      <td>0.218985</td>\n",
       "      <td>0.226435</td>\n",
       "      <td>0.200090</td>\n",
       "      <td>0.235551</td>\n",
       "      <td>0.004473</td>\n",
       "      <td>0.004774</td>\n",
       "      <td>0.037813</td>\n",
       "      <td>0.041240</td>\n",
       "      <td>0.000867</td>\n",
       "      <td>0.000898</td>\n",
       "      <td>0.013629</td>\n",
       "    </tr>\n",
       "    <tr>\n",
       "      <th>1219</th>\n",
       "      <td>42</td>\n",
       "      <td>133</td>\n",
       "      <td>2000</td>\n",
       "      <td>71655.0</td>\n",
       "      <td>2743046</td>\n",
       "      <td>0.497499</td>\n",
       "      <td>0.502501</td>\n",
       "      <td>0.438321</td>\n",
       "      <td>0.443527</td>\n",
       "      <td>0.037588</td>\n",
       "      <td>0.036162</td>\n",
       "      <td>0.002079</td>\n",
       "      <td>0.001843</td>\n",
       "      <td>0.007190</td>\n",
       "      <td>0.008613</td>\n",
       "      <td>0.000395</td>\n",
       "      <td>0.000416</td>\n",
       "      <td>0.011926</td>\n",
       "    </tr>\n",
       "    <tr>\n",
       "      <th>924</th>\n",
       "      <td>36</td>\n",
       "      <td>103</td>\n",
       "      <td>2002</td>\n",
       "      <td>109084.0</td>\n",
       "      <td>9152726</td>\n",
       "      <td>0.495513</td>\n",
       "      <td>0.504487</td>\n",
       "      <td>0.416442</td>\n",
       "      <td>0.422438</td>\n",
       "      <td>0.043497</td>\n",
       "      <td>0.045976</td>\n",
       "      <td>0.003550</td>\n",
       "      <td>0.003241</td>\n",
       "      <td>0.021259</td>\n",
       "      <td>0.022082</td>\n",
       "      <td>0.000557</td>\n",
       "      <td>0.000519</td>\n",
       "      <td>0.010207</td>\n",
       "    </tr>\n",
       "    <tr>\n",
       "      <th>1215</th>\n",
       "      <td>42</td>\n",
       "      <td>129</td>\n",
       "      <td>2005</td>\n",
       "      <td>59349.0</td>\n",
       "      <td>2123436</td>\n",
       "      <td>0.493617</td>\n",
       "      <td>0.506383</td>\n",
       "      <td>0.464779</td>\n",
       "      <td>0.479903</td>\n",
       "      <td>0.014620</td>\n",
       "      <td>0.012278</td>\n",
       "      <td>0.000807</td>\n",
       "      <td>0.000656</td>\n",
       "      <td>0.004862</td>\n",
       "      <td>0.005320</td>\n",
       "      <td>0.000122</td>\n",
       "      <td>0.000111</td>\n",
       "      <td>0.008428</td>\n",
       "    </tr>\n",
       "  </tbody>\n",
       "</table>\n",
       "<p>858 rows × 18 columns</p>\n",
       "</div>"
      ],
      "text/plain": [
       "      State Code  County Code  Date Local  Median Household Income  Total Pop  \\\n",
       "66             6            1        2002                 113518.0   10021506   \n",
       "835           32            3        2001                  62496.0   13662646   \n",
       "67             6            1        2003                 113518.0   10021506   \n",
       "447            6           95        2001                  83678.0    2716962   \n",
       "217            6           37        2012                  75624.0   59665436   \n",
       "...          ...          ...         ...                      ...        ...   \n",
       "1133          42           69        2002                  56911.0    1294150   \n",
       "1184          42          101        2005                  55102.0    9562106   \n",
       "1219          42          133        2000                  71655.0    2743046   \n",
       "924           36          103        2002                 109084.0    9152726   \n",
       "1215          42          129        2005                  59349.0    2123436   \n",
       "\n",
       "      Total Male %  Total Female %  White Alone (M) %  White Alone (F) %  \\\n",
       "66        0.495390        0.504610           0.244432           0.238668   \n",
       "835       0.500808        0.499192           0.349270           0.334776   \n",
       "67        0.495390        0.504610           0.244432           0.238668   \n",
       "447       0.501149        0.498851           0.300509           0.288954   \n",
       "217       0.495714        0.504286           0.353743           0.349500   \n",
       "...            ...             ...                ...                ...   \n",
       "1133      0.489517        0.510483           0.437606           0.461313   \n",
       "1184      0.475856        0.524144           0.218985           0.226435   \n",
       "1219      0.497499        0.502501           0.438321           0.443527   \n",
       "924       0.495513        0.504487           0.416442           0.422438   \n",
       "1215      0.493617        0.506383           0.464779           0.479903   \n",
       "\n",
       "      Black Alone (M) %  Black Alone (F) %  Am Indian+AK Native Alone (M) %  \\\n",
       "66             0.051896           0.056041                         0.005613   \n",
       "835            0.065935           0.068644                         0.006304   \n",
       "67             0.051896           0.056041                         0.005613   \n",
       "447            0.074948           0.072824                         0.006718   \n",
       "217            0.042930           0.046823                         0.007591   \n",
       "...                 ...                ...                              ...   \n",
       "1133           0.024152           0.021254                         0.001740   \n",
       "1184           0.200090           0.235551                         0.004473   \n",
       "1219           0.037588           0.036162                         0.002079   \n",
       "924            0.043497           0.045976                         0.003550   \n",
       "1215           0.014620           0.012278                         0.000807   \n",
       "\n",
       "      Am Indian+AK Native Alone (F) %  Asian Alone (M) %  Asian Alone (F) %  \\\n",
       "66                           0.005458           0.161241           0.171451   \n",
       "835                          0.006135           0.048658           0.058518   \n",
       "67                           0.005458           0.161241           0.171451   \n",
       "447                          0.006442           0.076265           0.088328   \n",
       "217                          0.007220           0.073381           0.082331   \n",
       "...                               ...                ...                ...   \n",
       "1133                         0.001697           0.016049           0.016100   \n",
       "1184                         0.004774           0.037813           0.041240   \n",
       "1219                         0.001843           0.007190           0.008613   \n",
       "924                          0.003241           0.021259           0.022082   \n",
       "1215                         0.000656           0.004862           0.005320   \n",
       "\n",
       "      Nat. HI and PI (M) %  Nat. HI and PI (F) %  TOM_MALE  \n",
       "66                0.004578              0.004916  0.027631  \n",
       "835               0.004651              0.004758  0.025988  \n",
       "67                0.004578              0.004916  0.027631  \n",
       "447               0.005441              0.005261  0.037269  \n",
       "217               0.001828              0.001838  0.016241  \n",
       "...                    ...                   ...       ...  \n",
       "1133              0.000323              0.000383  0.009646  \n",
       "1184              0.000867              0.000898  0.013629  \n",
       "1219              0.000395              0.000416  0.011926  \n",
       "924               0.000557              0.000519  0.010207  \n",
       "1215              0.000122              0.000111  0.008428  \n",
       "\n",
       "[858 rows x 18 columns]"
      ]
     },
     "execution_count": 6,
     "metadata": {},
     "output_type": "execute_result"
    }
   ],
   "source": [
    "#feature importance\n",
    "X_train"
   ]
  },
  {
   "cell_type": "code",
   "execution_count": 7,
   "id": "6dc4a069",
   "metadata": {},
   "outputs": [
    {
     "data": {
      "text/plain": [
       "66      1\n",
       "835     1\n",
       "67      1\n",
       "447     1\n",
       "217     1\n",
       "       ..\n",
       "1133    1\n",
       "1184    1\n",
       "1219    1\n",
       "924     1\n",
       "1215    1\n",
       "Name: AQI Binary, Length: 858, dtype: int64"
      ]
     },
     "execution_count": 7,
     "metadata": {},
     "output_type": "execute_result"
    }
   ],
   "source": [
    "y_train\n",
    "\n",
    "#making y_train into categorical (good, bad) for now. 1 is good, 0 is worst\n",
    "#using threshold from epa.gov: 100 and below gets 1, 101 and above gets 0\n"
   ]
  },
  {
   "cell_type": "code",
   "execution_count": 8,
   "id": "fa826f6a",
   "metadata": {},
   "outputs": [
    {
     "data": {
      "text/plain": [
       "['State Code',\n",
       " 'County Code',\n",
       " 'Date Local',\n",
       " 'Median Household Income',\n",
       " 'Total Pop',\n",
       " 'Total Male %',\n",
       " 'Total Female %',\n",
       " 'White Alone (M) %',\n",
       " 'White Alone (F) %',\n",
       " 'Black Alone (M) %',\n",
       " 'Black Alone (F) %',\n",
       " 'Am Indian+AK Native Alone (M) %',\n",
       " 'Am Indian+AK Native Alone (F) %',\n",
       " 'Asian Alone (M) %',\n",
       " 'Asian Alone (F) %',\n",
       " 'Nat. HI and PI (M) %',\n",
       " 'Nat. HI and PI (F) %',\n",
       " 'TOM_MALE']"
      ]
     },
     "execution_count": 8,
     "metadata": {},
     "output_type": "execute_result"
    }
   ],
   "source": [
    "X_train.columns.values.tolist()"
   ]
  },
  {
   "cell_type": "code",
   "execution_count": 9,
   "id": "2f5be1c3",
   "metadata": {},
   "outputs": [
    {
     "data": {
      "text/plain": [
       "State Code                           int64\n",
       "County Code                          int64\n",
       "Date Local                           int64\n",
       "Median Household Income            float64\n",
       "Total Pop                            int64\n",
       "Total Male %                       float64\n",
       "Total Female %                     float64\n",
       "White Alone (M) %                  float64\n",
       "White Alone (F) %                  float64\n",
       "Black Alone (M) %                  float64\n",
       "Black Alone (F) %                  float64\n",
       "Am Indian+AK Native Alone (M) %    float64\n",
       "Am Indian+AK Native Alone (F) %    float64\n",
       "Asian Alone (M) %                  float64\n",
       "Asian Alone (F) %                  float64\n",
       "Nat. HI and PI (M) %               float64\n",
       "Nat. HI and PI (F) %               float64\n",
       "TOM_MALE                           float64\n",
       "dtype: object"
      ]
     },
     "execution_count": 9,
     "metadata": {},
     "output_type": "execute_result"
    }
   ],
   "source": [
    "data.dtypes"
   ]
  },
  {
   "cell_type": "code",
   "execution_count": 15,
   "id": "83274271",
   "metadata": {},
   "outputs": [
    {
     "data": {
      "text/plain": [
       "<BarContainer object of 5 artists>"
      ]
     },
     "execution_count": 15,
     "metadata": {},
     "output_type": "execute_result"
    },
    {
     "data": {
      "image/png": "[encoded data removed]",
      "text/plain": [
       "<Figure size 640x480 with 1 Axes>"
      ]
     },
     "metadata": {},
     "output_type": "display_data"
    }
   ],
   "source": [
    "#try feature importance w Logistic Regression\n",
    "from sklearn.linear_model import LogisticRegression\n",
    "from matplotlib import pyplot as plt\n",
    "\n",
    "from sklearn.ensemble import RandomForestClassifier\n",
    "\n",
    "RF = RandomForestClassifier()\n",
    "RF.fit(X_train, y_train)\n",
    "\n",
    "\n",
    "#get importance\n",
    "importances = pd.DataFrame(data = \n",
    "                           {'Attribute': X_train.columns,\n",
    "                            'Importance': RF.feature_importances_\n",
    "                           })\n",
    "\n",
    "importances.sort_values('Importance')\n",
    "\n",
    "importances = importances[0:5]\n",
    "\n",
    "#plot importance for features\n",
    "plt.bar(x=importances['Attribute'], height=importances['Importance'], color='#087E8B')"
   ]
  },
  {
   "cell_type": "code",
   "execution_count": 18,
   "id": "98480014",
   "metadata": {},
   "outputs": [
    {
     "data": {
      "text/plain": [
       "<BarContainer object of 5 artists>"
      ]
     },
     "execution_count": 18,
     "metadata": {},
     "output_type": "execute_result"
    },
    {
     "data": {
      "image/png": "[encoded data removed]",
      "text/plain": [
       "<Figure size 640x480 with 1 Axes>"
      ]
     },
     "metadata": {},
     "output_type": "display_data"
    }
   ],
   "source": [
    "#get importance\n",
    "importances = pd.DataFrame(data = \n",
    "                           {'Attribute': X_train.columns,\n",
    "                            'Importance': RF.feature_importances_\n",
    "                           })\n",
    "\n",
    "importances.sort_values('Importance')\n",
    "\n",
    "importances = importances[5:10]\n",
    "\n",
    "#plot importance for features\n",
    "plt.bar(x=importances['Attribute'], height=importances['Importance'], color='#087E8B')"
   ]
  },
  {
   "cell_type": "markdown",
   "id": "ad88e780",
   "metadata": {},
   "source": [
    "### to note: \n",
    "\n",
    "negative feature importance means that feature actually increases our loss (so % Black alone (M) actually increases the loss of our feature)."
   ]
  },
  {
   "cell_type": "code",
   "execution_count": 20,
   "id": "beb6fd27",
   "metadata": {},
   "outputs": [
    {
     "data": {
      "text/plain": [
       "<BarContainer object of 4 artists>"
      ]
     },
     "execution_count": 20,
     "metadata": {},
     "output_type": "execute_result"
    },
    {
     "data": {
      "image/png": "[encoded data removed]",
      "text/plain": [
       "<Figure size 640x480 with 1 Axes>"
      ]
     },
     "metadata": {},
     "output_type": "display_data"
    }
   ],
   "source": [
    "#get importance\n",
    "importances = pd.DataFrame(data = \n",
    "                           {'Attribute': X_train.columns,\n",
    "                            'Importance': RF.feature_importances_\n",
    "                           })\n",
    "\n",
    "importances.sort_values('Importance')\n",
    "\n",
    "importances = importances[11:15]\n",
    "\n",
    "#plot importance for features\n",
    "plt.bar(x=importances['Attribute'], height=importances['Importance'], color='#087E8B')"
   ]
  },
  {
   "cell_type": "code",
   "execution_count": 21,
   "id": "25aa47d3",
   "metadata": {},
   "outputs": [
    {
     "data": {
      "text/plain": [
       "<BarContainer object of 3 artists>"
      ]
     },
     "execution_count": 21,
     "metadata": {},
     "output_type": "execute_result"
    },
    {
     "data": {
      "image/png": "[encoded data removed]",
      "text/plain": [
       "<Figure size 640x480 with 1 Axes>"
      ]
     },
     "metadata": {},
     "output_type": "display_data"
    }
   ],
   "source": [
    "#get importance\n",
    "importances = pd.DataFrame(data = \n",
    "                           {'Attribute': X_train.columns,\n",
    "                            'Importance': RF.feature_importances_\n",
    "                           })\n",
    "\n",
    "importances.sort_values('Importance')\n",
    "\n",
    "importances = importances[15:20]\n",
    "\n",
    "#plot importance for features\n",
    "plt.bar(x=importances['Attribute'], height=importances['Importance'], color='#087E8B')"
   ]
  },
  {
   "cell_type": "markdown",
   "id": "0f3c5832",
   "metadata": {},
   "source": [
    "## Looking into models \n",
    "\n",
    "Starting with some of the basic scie kit learn models to compare. Depending on how they do I think we could have a binary classifier type model and then attempt linear regression to predict actual values which might not work as well on our data. "
   ]
  },
  {
   "cell_type": "markdown",
   "id": "5fd89ccd",
   "metadata": {},
   "source": [
    "### Logistic Regression "
   ]
  },
  {
   "cell_type": "code",
   "execution_count": 14,
   "id": "0153000c",
   "metadata": {},
   "outputs": [
    {
     "name": "stdout",
     "output_type": "stream",
     "text": [
      "Training Accuracy:\n",
      "0.8916083916083916\n",
      "Testing Accuracy:\n",
      "0.8605200945626478\n"
     ]
    }
   ],
   "source": [
    "from sklearn.linear_model import LogisticRegression \n",
    "\n",
    "LR = LogisticRegression()\n",
    "LR.fit(X_train, y_train)\n",
    "\n",
    "print(\"Training Accuracy:\")\n",
    "print(LR.score(X_train, y_train))\n",
    "\n",
    "print(\"Testing Accuracy:\")\n",
    "print(LR.score(X_test, y_test))"
   ]
  },
  {
   "cell_type": "markdown",
   "id": "d315734c",
   "metadata": {},
   "source": [
    "### Linear Regression"
   ]
  },
  {
   "cell_type": "code",
   "execution_count": 22,
   "id": "acbc116a",
   "metadata": {},
   "outputs": [
    {
     "name": "stdout",
     "output_type": "stream",
     "text": [
      "                            OLS Regression Results                            \n",
      "==============================================================================\n",
      "Dep. Variable:             AQI Binary   R-squared:                       0.222\n",
      "Model:                            OLS   Adj. R-squared:                  0.207\n",
      "Method:                 Least Squares   F-statistic:                     15.02\n",
      "Date:                Mon, 08 May 2023   Prob (F-statistic):           1.74e-36\n",
      "Time:                        09:35:57   Log-Likelihood:                -107.15\n",
      "No. Observations:                 858   AIC:                             248.3\n",
      "Df Residuals:                     841   BIC:                             329.1\n",
      "Df Model:                          16                                         \n",
      "Covariance Type:            nonrobust                                         \n",
      "===================================================================================================\n",
      "                                      coef    std err          t      P>|t|      [0.025      0.975]\n",
      "---------------------------------------------------------------------------------------------------\n",
      "const                             -31.2009      9.446     -3.303      0.001     -49.741     -12.660\n",
      "State Code                          0.0003      0.001      0.365      0.715      -0.001       0.002\n",
      "County Code                      3.285e-06      0.000      0.026      0.979      -0.000       0.000\n",
      "Date Local                          0.0265      0.002     13.431      0.000       0.023       0.030\n",
      "Median Household Income         -1.702e-07   8.86e-07     -0.192      0.848   -1.91e-06    1.57e-06\n",
      "Total Pop                       -4.012e-09   9.09e-10     -4.416      0.000    -5.8e-09   -2.23e-09\n",
      "Total Male %                        1.3179     12.005      0.110      0.913     -22.244      24.880\n",
      "Total Female %                    -32.5189     15.408     -2.110      0.035     -62.762      -2.276\n",
      "White Alone (M) %                 -24.4056     15.063     -1.620      0.106     -53.972       5.160\n",
      "White Alone (F) %                  13.3808     22.165      0.604      0.546     -30.123      56.885\n",
      "Black Alone (M) %                 -19.0131     14.457     -1.315      0.189     -47.389       9.362\n",
      "Black Alone (F) %                   8.2171     22.549      0.364      0.716     -36.042      52.476\n",
      "Am Indian+AK Native Alone (M) %   -16.0201     20.867     -0.768      0.443     -56.978      24.938\n",
      "Am Indian+AK Native Alone (F) %     5.8647     26.545      0.221      0.825     -46.237      57.967\n",
      "Asian Alone (M) %                 -28.0058     14.896     -1.880      0.060     -57.243       1.232\n",
      "Asian Alone (F) %                  18.0117     22.803      0.790      0.430     -26.745      62.769\n",
      "Nat. HI and PI (M) %               99.3350     85.132      1.167      0.244     -67.761     266.431\n",
      "Nat. HI and PI (F) %             -111.3928    105.940     -1.051      0.293    -319.331      96.545\n",
      "TOM_MALE                          -10.5724     27.416     -0.386      0.700     -64.384      43.239\n",
      "==============================================================================\n",
      "Omnibus:                      246.949   Durbin-Watson:                   2.019\n",
      "Prob(Omnibus):                  0.000   Jarque-Bera (JB):              536.718\n",
      "Skew:                          -1.605   Prob(JB):                    2.84e-117\n",
      "Kurtosis:                       5.169   Cond. No.                     6.32e+23\n",
      "==============================================================================\n",
      "\n",
      "Notes:\n",
      "[1] Standard Errors assume that the covariance matrix of the errors is correctly specified.\n",
      "[2] The smallest eigenvalue is 5.7e-31. This might indicate that there are\n",
      "strong multicollinearity problems or that the design matrix is singular.\n",
      "0.22226355692058475\n",
      "0.24682277427275767\n"
     ]
    }
   ],
   "source": [
    "from sklearn.linear_model import LinearRegression \n",
    "import statsmodels.api as sm\n",
    "from scipy import stats\n",
    "\n",
    "LinR = LinearRegression()\n",
    "LinR.fit(X_train, y_train)\n",
    "\n",
    "X2 = sm.add_constant(X_train)\n",
    "est = sm.OLS(y_train, X2)\n",
    "est2 = est.fit()\n",
    "print(est2.summary())\n",
    "\n",
    "print(LinR.score(X_train,y_train))\n",
    "print(LinR.score(X_test, y_test))"
   ]
  },
  {
   "cell_type": "markdown",
   "id": "d63cff89",
   "metadata": {},
   "source": [
    "### Logistic Regression with polynomial features \n",
    "code for poly_LR from class notes. Doesn't seem to be working since identical to normal LR training score and the score doesn't change from degree = 1 to degree = 2 but unsure why. "
   ]
  },
  {
   "cell_type": "code",
   "execution_count": 16,
   "id": "c12ade23",
   "metadata": {
    "scrolled": true
   },
   "outputs": [
    {
     "name": "stdout",
     "output_type": "stream",
     "text": [
      "Training accuracy\n",
      "0.8916083916083916\n",
      "Testing accuracy\n",
      "0.8605200945626478\n"
     ]
    }
   ],
   "source": [
    "from sklearn.preprocessing import PolynomialFeatures\n",
    "from sklearn.pipeline import Pipeline\n",
    "\n",
    "def poly_LR(degree, **kwargs):\n",
    "    plr = Pipeline([(\"poly\", PolynomialFeatures(degree = degree)),\n",
    "                    (\"LR\", LogisticRegression(**kwargs))])\n",
    "    return plr\n",
    "\n",
    "    \n",
    "plr = poly_LR(degree = 2, max_iter = 1000000)\n",
    "plr.fit(X_train, y_train)\n",
    "print(\"Training accuracy\")\n",
    "print(plr.score(X_train, y_train))\n",
    "\n",
    "print(\"Testing accuracy\")\n",
    "print(plr.score(X_test, y_test))"
   ]
  },
  {
   "cell_type": "code",
   "execution_count": null,
   "id": "b0366743",
   "metadata": {},
   "outputs": [],
   "source": [
    "# coefficients -- wanted to see what this looks like, they're all very small coefficients maybe that has \n",
    "#something to do with how low the degrees change the accuracy? \n",
    "print(\"coefficients of model:\")\n",
    "print()\n",
    "print(plr.named_steps['LR'].coef_)\n",
    "\n",
    "print(\"biases of model:\")\n",
    "print(plr.named_steps['LR'].intercept_)"
   ]
  },
  {
   "cell_type": "markdown",
   "id": "7692d4b2",
   "metadata": {},
   "source": [
    "### Support Vector Machine"
   ]
  },
  {
   "cell_type": "code",
   "execution_count": 20,
   "id": "60256bbf",
   "metadata": {},
   "outputs": [
    {
     "name": "stdout",
     "output_type": "stream",
     "text": [
      "Training Accuracy:\n",
      "0.9463869463869464\n",
      "Test accuracy\n",
      "0.9054373522458629\n"
     ]
    }
   ],
   "source": [
    "from sklearn.svm import SVC\n",
    "from sklearn.model_selection import cross_val_score\n",
    "\n",
    "svc = SVC(gamma = \"auto\") \n",
    "svc.fit(X_train, y_train)\n",
    "\n",
    "print(\"Training Accuracy:\")\n",
    "print(svc.score(X_train, y_train))\n",
    "\n",
    "print(\"Test accuracy\")\n",
    "print(svc.score(X_test, y_test))"
   ]
  },
  {
   "cell_type": "code",
   "execution_count": 21,
   "id": "e5e00a8c-57bf-40a7-aec0-feb6b8a2b06a",
   "metadata": {},
   "outputs": [
    {
     "name": "stdout",
     "output_type": "stream",
     "text": [
      "0.9114096573208723 0.027777777777777776\n"
     ]
    }
   ],
   "source": [
    "best_score = -np.inf\n",
    "best_gamma = np.inf\n",
    "\n",
    "for gammas in 6**(np.arange(-4,4, dtype = float)):\n",
    "    svc = SVC(gamma = gammas)\n",
    "    scores = cross_val_score(svc, X_train, y_train,cv=8)\n",
    "    if scores.mean()>best_score:\n",
    "        best_score = scores.mean()\n",
    "        best_gamma = gammas\n",
    "        \n",
    "print(best_score, best_gamma)\n",
    "\n",
    "\n",
    "    "
   ]
  },
  {
   "cell_type": "code",
   "execution_count": 22,
   "id": "b5f9304a-2500-45b5-8c76-d2dbb9c834ed",
   "metadata": {},
   "outputs": [
    {
     "name": "stdout",
     "output_type": "stream",
     "text": [
      "training accuracy\n",
      "0.9358974358974359\n",
      "testing\n",
      "0.9054373522458629\n"
     ]
    }
   ],
   "source": [
    "svc_model = SVC(gamma = .027777777777777776)\n",
    "svc_model.fit(X_train,y_train)\n",
    "\n",
    "print(\"training accuracy\")\n",
    "print(svc_model.score(X_train,y_train))\n",
    "print(\"testing\")\n",
    "print(svc_model.score(X_test,y_test))"
   ]
  },
  {
   "cell_type": "markdown",
   "id": "d514c72e-131c-47fa-8754-9041b06d32a6",
   "metadata": {},
   "source": [
    "### Decision Tree Classifier"
   ]
  },
  {
   "cell_type": "code",
   "execution_count": 23,
   "id": "4fe9f216-2f87-444d-98b3-7f64aee889a8",
   "metadata": {},
   "outputs": [
    {
     "name": "stdout",
     "output_type": "stream",
     "text": [
      "0.898525828460039 5\n"
     ]
    }
   ],
   "source": [
    "from sklearn.tree import DecisionTreeClassifier\n",
    "from sklearn.model_selection import cross_val_score\n",
    "\n",
    "best_score = -np.inf\n",
    "maximum = 0\n",
    "\n",
    "for depth in range(2,25):\n",
    "    tree = DecisionTreeClassifier(max_depth = depth)\n",
    "    #scores = cross_val_score(tree, X_train[subset], y_train, cv = 11)\n",
    "\n",
    "    scores = cross_val_score(tree, X_train, y_train, cv = 9)\n",
    "    if scores.mean() > best_score:\n",
    "        best_score = scores.mean()\n",
    "        maximum = depth\n",
    "print(best_score, maximum)"
   ]
  },
  {
   "cell_type": "code",
   "execution_count": 24,
   "id": "fa746887-7fed-4cc5-8aca-83fec204e898",
   "metadata": {},
   "outputs": [
    {
     "name": "stdout",
     "output_type": "stream",
     "text": [
      "training\n",
      "0.9335664335664335\n",
      "testing\n",
      "0.900709219858156\n"
     ]
    }
   ],
   "source": [
    "tree = DecisionTreeClassifier(max_depth = 5)\n",
    "tree.fit(X_train,y_train)\n",
    "print(\"training\")\n",
    "print(tree.score(X_train,y_train))\n",
    "print(\"testing\")\n",
    "print(tree.score(X_test,y_test))"
   ]
  },
  {
   "cell_type": "markdown",
   "id": "5a413d93",
   "metadata": {},
   "source": [
    "## working with geopandas, or trying to \n"
   ]
  },
  {
   "cell_type": "code",
   "execution_count": 26,
   "id": "a6f0fe00",
   "metadata": {},
   "outputs": [],
   "source": [
    "#have to pip install folium, mapclassify, geopandas, matplotlib\n",
    "\n",
    "import geopandas as gpd\n",
    "import folium\n",
    "import mapclassify\n",
    "import matplotlib.pyplot as plt"
   ]
  },
  {
   "cell_type": "code",
   "execution_count": 27,
   "id": "5aae7d88",
   "metadata": {},
   "outputs": [
    {
     "data": {
      "text/html": [
       "<div>\n",
       "<style scoped>\n",
       "    .dataframe tbody tr th:only-of-type {\n",
       "        vertical-align: middle;\n",
       "    }\n",
       "\n",
       "    .dataframe tbody tr th {\n",
       "        vertical-align: top;\n",
       "    }\n",
       "\n",
       "    .dataframe thead th {\n",
       "        text-align: right;\n",
       "    }\n",
       "</style>\n",
       "<table border=\"1\" class=\"dataframe\">\n",
       "  <thead>\n",
       "    <tr style=\"text-align: right;\">\n",
       "      <th></th>\n",
       "      <th>id</th>\n",
       "      <th>GEO_ID</th>\n",
       "      <th>STATE</th>\n",
       "      <th>COUNTY</th>\n",
       "      <th>NAME</th>\n",
       "      <th>LSAD</th>\n",
       "      <th>CENSUSAREA</th>\n",
       "      <th>geometry</th>\n",
       "    </tr>\n",
       "  </thead>\n",
       "  <tbody>\n",
       "    <tr>\n",
       "      <th>0</th>\n",
       "      <td>1001</td>\n",
       "      <td>0500000US01001</td>\n",
       "      <td>01</td>\n",
       "      <td>001</td>\n",
       "      <td>Autauga</td>\n",
       "      <td>County</td>\n",
       "      <td>594.436</td>\n",
       "      <td>POLYGON ((-86.49677 32.34444, -86.71790 32.402...</td>\n",
       "    </tr>\n",
       "    <tr>\n",
       "      <th>1</th>\n",
       "      <td>1009</td>\n",
       "      <td>0500000US01009</td>\n",
       "      <td>01</td>\n",
       "      <td>009</td>\n",
       "      <td>Blount</td>\n",
       "      <td>County</td>\n",
       "      <td>644.776</td>\n",
       "      <td>POLYGON ((-86.57780 33.76532, -86.75914 33.840...</td>\n",
       "    </tr>\n",
       "    <tr>\n",
       "      <th>2</th>\n",
       "      <td>1017</td>\n",
       "      <td>0500000US01017</td>\n",
       "      <td>01</td>\n",
       "      <td>017</td>\n",
       "      <td>Chambers</td>\n",
       "      <td>County</td>\n",
       "      <td>596.531</td>\n",
       "      <td>POLYGON ((-85.18413 32.87053, -85.12342 32.772...</td>\n",
       "    </tr>\n",
       "    <tr>\n",
       "      <th>3</th>\n",
       "      <td>1021</td>\n",
       "      <td>0500000US01021</td>\n",
       "      <td>01</td>\n",
       "      <td>021</td>\n",
       "      <td>Chilton</td>\n",
       "      <td>County</td>\n",
       "      <td>692.854</td>\n",
       "      <td>POLYGON ((-86.51734 33.02057, -86.51596 32.929...</td>\n",
       "    </tr>\n",
       "    <tr>\n",
       "      <th>4</th>\n",
       "      <td>1033</td>\n",
       "      <td>0500000US01033</td>\n",
       "      <td>01</td>\n",
       "      <td>033</td>\n",
       "      <td>Colbert</td>\n",
       "      <td>County</td>\n",
       "      <td>592.619</td>\n",
       "      <td>POLYGON ((-88.13999 34.58170, -88.13925 34.587...</td>\n",
       "    </tr>\n",
       "    <tr>\n",
       "      <th>...</th>\n",
       "      <td>...</td>\n",
       "      <td>...</td>\n",
       "      <td>...</td>\n",
       "      <td>...</td>\n",
       "      <td>...</td>\n",
       "      <td>...</td>\n",
       "      <td>...</td>\n",
       "      <td>...</td>\n",
       "    </tr>\n",
       "    <tr>\n",
       "      <th>3216</th>\n",
       "      <td>51001</td>\n",
       "      <td>0500000US51001</td>\n",
       "      <td>51</td>\n",
       "      <td>001</td>\n",
       "      <td>Accomack</td>\n",
       "      <td>County</td>\n",
       "      <td>449.496</td>\n",
       "      <td>MULTIPOLYGON (((-75.24227 38.02721, -75.29687 ...</td>\n",
       "    </tr>\n",
       "    <tr>\n",
       "      <th>3217</th>\n",
       "      <td>51021</td>\n",
       "      <td>0500000US51021</td>\n",
       "      <td>51</td>\n",
       "      <td>021</td>\n",
       "      <td>Bland</td>\n",
       "      <td>County</td>\n",
       "      <td>357.725</td>\n",
       "      <td>POLYGON ((-81.22510 37.23487, -81.20477 37.243...</td>\n",
       "    </tr>\n",
       "    <tr>\n",
       "      <th>3218</th>\n",
       "      <td>51027</td>\n",
       "      <td>0500000US51027</td>\n",
       "      <td>51</td>\n",
       "      <td>027</td>\n",
       "      <td>Buchanan</td>\n",
       "      <td>County</td>\n",
       "      <td>502.763</td>\n",
       "      <td>POLYGON ((-81.96830 37.53780, -81.92787 37.512...</td>\n",
       "    </tr>\n",
       "    <tr>\n",
       "      <th>3219</th>\n",
       "      <td>51037</td>\n",
       "      <td>0500000US51037</td>\n",
       "      <td>51</td>\n",
       "      <td>037</td>\n",
       "      <td>Charlotte</td>\n",
       "      <td>County</td>\n",
       "      <td>475.271</td>\n",
       "      <td>POLYGON ((-78.44332 37.07940, -78.49303 36.891...</td>\n",
       "    </tr>\n",
       "    <tr>\n",
       "      <th>3220</th>\n",
       "      <td>51041</td>\n",
       "      <td>0500000US51041</td>\n",
       "      <td>51</td>\n",
       "      <td>041</td>\n",
       "      <td>Chesterfield</td>\n",
       "      <td>County</td>\n",
       "      <td>423.297</td>\n",
       "      <td>POLYGON ((-77.85180 37.35487, -77.85515 37.418...</td>\n",
       "    </tr>\n",
       "  </tbody>\n",
       "</table>\n",
       "<p>3221 rows × 8 columns</p>\n",
       "</div>"
      ],
      "text/plain": [
       "         id          GEO_ID STATE COUNTY          NAME    LSAD  CENSUSAREA  \\\n",
       "0      1001  0500000US01001    01    001       Autauga  County     594.436   \n",
       "1      1009  0500000US01009    01    009        Blount  County     644.776   \n",
       "2      1017  0500000US01017    01    017      Chambers  County     596.531   \n",
       "3      1021  0500000US01021    01    021       Chilton  County     692.854   \n",
       "4      1033  0500000US01033    01    033       Colbert  County     592.619   \n",
       "...     ...             ...   ...    ...           ...     ...         ...   \n",
       "3216  51001  0500000US51001    51    001      Accomack  County     449.496   \n",
       "3217  51021  0500000US51021    51    021         Bland  County     357.725   \n",
       "3218  51027  0500000US51027    51    027      Buchanan  County     502.763   \n",
       "3219  51037  0500000US51037    51    037     Charlotte  County     475.271   \n",
       "3220  51041  0500000US51041    51    041  Chesterfield  County     423.297   \n",
       "\n",
       "                                               geometry  \n",
       "0     POLYGON ((-86.49677 32.34444, -86.71790 32.402...  \n",
       "1     POLYGON ((-86.57780 33.76532, -86.75914 33.840...  \n",
       "2     POLYGON ((-85.18413 32.87053, -85.12342 32.772...  \n",
       "3     POLYGON ((-86.51734 33.02057, -86.51596 32.929...  \n",
       "4     POLYGON ((-88.13999 34.58170, -88.13925 34.587...  \n",
       "...                                                 ...  \n",
       "3216  MULTIPOLYGON (((-75.24227 38.02721, -75.29687 ...  \n",
       "3217  POLYGON ((-81.22510 37.23487, -81.20477 37.243...  \n",
       "3218  POLYGON ((-81.96830 37.53780, -81.92787 37.512...  \n",
       "3219  POLYGON ((-78.44332 37.07940, -78.49303 36.891...  \n",
       "3220  POLYGON ((-77.85180 37.35487, -77.85515 37.418...  \n",
       "\n",
       "[3221 rows x 8 columns]"
      ]
     },
     "execution_count": 27,
     "metadata": {},
     "output_type": "execute_result"
    }
   ],
   "source": [
    "geo_data = gpd.read_file('https://raw.githubusercontent.com/holtzy/The-Python-Graph-Gallery/master/static/data/US-counties.geojson')\n",
    "\n",
    "geo_data.id = geo_data.id.astype(str).astype(int)\n",
    "\n",
    "geo_data"
   ]
  },
  {
   "cell_type": "code",
   "execution_count": 29,
   "id": "c3f2361b",
   "metadata": {},
   "outputs": [
    {
     "name": "stdout",
     "output_type": "stream",
     "text": [
      "id               int64\n",
      "GEO_ID          object\n",
      "STATE            int64\n",
      "COUNTY           int64\n",
      "NAME            object\n",
      "LSAD            object\n",
      "CENSUSAREA     float64\n",
      "geometry      geometry\n",
      "dtype: object\n",
      "id               int64\n",
      "GEO_ID          object\n",
      "STATE            int64\n",
      "COUNTY           int64\n",
      "NAME            object\n",
      "LSAD            object\n",
      "CENSUSAREA     float64\n",
      "geometry      geometry\n",
      "dtype: object\n"
     ]
    }
   ],
   "source": [
    "#county code and state codes are the same in the two data frames\n",
    "\n",
    "#print(data.loc[data['County Code'] == 33])\n",
    "#print(geo_data.loc[geo_data['COUNTY'] == '033'])\n",
    "\n",
    "#shifting state/county codes from objects to integers\n",
    "\n",
    "print(geo_data.dtypes)\n",
    "\n",
    "geo_data['COUNTY'] = geo_data.COUNTY.astype(str).astype(int)\n",
    "geo_data['STATE'] = geo_data.STATE.astype(str).astype(int)\n",
    "\n",
    "print(geo_data.dtypes)"
   ]
  },
  {
   "cell_type": "code",
   "execution_count": 30,
   "id": "f7fe666b",
   "metadata": {},
   "outputs": [
    {
     "data": {
      "text/plain": [
       "<Axes: >"
      ]
     },
     "execution_count": 30,
     "metadata": {},
     "output_type": "execute_result"
    },
    {
     "data": {
      "image/png": "[encoded data removed]",
      "text/plain": [
       "<Figure size 640x480 with 1 Axes>"
      ]
     },
     "metadata": {},
     "output_type": "display_data"
    }
   ],
   "source": [
    "# trying to merge the two data sets\n",
    "merged_df = pd.merge(geo_data, data, left_on='COUNTY', right_on='County Code')\n",
    "\n",
    "merged_df.plot()"
   ]
  },
  {
   "cell_type": "markdown",
   "id": "9a3c6baa",
   "metadata": {},
   "source": [
    "## Mapping test data (AQI Binary)\n",
    "\n",
    "merging our X_test, y_test with the geodata. Trying to make chloropleth map. "
   ]
  },
  {
   "cell_type": "code",
   "execution_count": 35,
   "id": "a3d40173",
   "metadata": {},
   "outputs": [
    {
     "data": {
      "text/plain": [
       "<Axes: >"
      ]
     },
     "execution_count": 35,
     "metadata": {},
     "output_type": "execute_result"
    },
    {
     "data": {
      "image/png": "[encoded data removed]",
      "text/plain": [
       "<Figure size 640x480 with 2 Axes>"
      ]
     },
     "metadata": {},
     "output_type": "display_data"
    }
   ],
   "source": [
    "#want to map the actual and predicted AQI for the test data \n",
    "\n",
    "\n",
    "test_merge = X_test \n",
    "test_merge[\"AQI Binary\"] = y_test\n",
    "\n",
    "test_merge = pd.merge(geo_data, X_test, left_on='COUNTY', right_on='County Code', how = \"right\")\n",
    "\n",
    "fig, ax = plt.subplots(1, 1)\n",
    "test_merge.plot(column=\"AQI Binary\", ax=ax, legend=True, cmap=\"coolwarm\")\n",
    "\n",
    "\n"
   ]
  },
  {
   "cell_type": "code",
   "execution_count": null,
   "id": "1665ebfa",
   "metadata": {},
   "outputs": [],
   "source": []
  },
  {
   "cell_type": "code",
   "execution_count": null,
   "id": "bdc8ad4c",
   "metadata": {},
   "outputs": [],
   "source": [
    "geo_data.explore() "
   ]
  },
  {
   "cell_type": "code",
   "execution_count": null,
   "id": "bff8331f",
   "metadata": {},
   "outputs": [],
   "source": []
  }
 ],
 "metadata": {
  "kernelspec": {
   "display_name": "Python 3 (ipykernel)",
   "language": "python",
   "name": "python3"
  },
  "language_info": {
   "codemirror_mode": {
    "name": "ipython",
    "version": 3
   },
   "file_extension": ".py",
   "mimetype": "text/x-python",
   "name": "python",
   "nbconvert_exporter": "python",
   "pygments_lexer": "ipython3",
   "version": "3.9.16"
  }
 },
 "nbformat": 4,
 "nbformat_minor": 5
}
