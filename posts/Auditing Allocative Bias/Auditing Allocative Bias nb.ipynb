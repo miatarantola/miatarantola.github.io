{
 "cells": [
  {
   "cell_type": "raw",
   "id": "754f55a6-a914-44bc-864b-2cd02163a633",
   "metadata": {},
   "source": [
    "---\n",
    "title: Auditing Allocative Bias\n",
    "author: Mia Tarantola\n",
    "date: '2023-04-02'\n",
    "\n",
    "description: \"A blog post investigating the bias of prediction models\"\n",
    "format: html\n",
    "---"
   ]
  },
  {
   "cell_type": "markdown",
   "id": "c57c173e-352b-4752-ac09-919b6c44ff8b",
   "metadata": {},
   "source": [
    "## Introduction"
   ]
  },
  {
   "cell_type": "markdown",
   "id": "190f41b3-ea11-4dd5-8fd5-62764ed5a48a",
   "metadata": {},
   "source": [
    "In this blog post I will implement a machine learning model that predicts whether an individual's income is over 50k on the basis of demographics excluding sex. I will also audit for gender bias"
   ]
  },
  {
   "cell_type": "markdown",
   "id": "8297073e-3302-421f-ba84-2c4472e96397",
   "metadata": {},
   "source": [
    "## Imports"
   ]
  },
  {
   "cell_type": "code",
   "execution_count": 1,
   "id": "c48ca254-707d-4979-b0a8-d8eaede88561",
   "metadata": {},
   "outputs": [],
   "source": [
    "from folktables import ACSDataSource, ACSEmployment, BasicProblem, adult_filter\n",
    "import numpy as np\n",
    "import seaborn as sns"
   ]
  },
  {
   "cell_type": "markdown",
   "id": "a8933fff-b0f3-4be2-af33-dfbe31fb80e8",
   "metadata": {},
   "source": [
    "## Building Data"
   ]
  },
  {
   "cell_type": "markdown",
   "id": "739290a5-37e8-440c-8c17-d417f202ae7d",
   "metadata": {},
   "source": [
    "For this model we will be looking at PUMS data for the state of New Jersey. We also need to change the PINCP column values. Currently, the values represent the total income of the individual. Now we need it to represent 0 if the individual's income was atleast $50,000 and 0 if it was less."
   ]
  },
  {
   "cell_type": "code",
   "execution_count": 2,
   "id": "e7cf06b2-a83d-41c5-ac65-0ab6221c4be8",
   "metadata": {},
   "outputs": [],
   "source": [
    "STATE = \"NJ\"\n",
    "\n",
    "data_source = ACSDataSource(survey_year='2018', \n",
    "                            horizon='1-Year', \n",
    "                            survey='person')\n",
    "\n",
    "acs_data = data_source.get_data(states=[STATE], download=True)\n",
    "acs_data.loc[acs_data.PINCP <=50000,\"PINCP\"]=0\n",
    "acs_data.loc[acs_data.PINCP >50000,\"PINCP\"]=1\n",
    "\n",
    "# acs_data.head()"
   ]
  },
  {
   "cell_type": "markdown",
   "id": "45f3db98-cabb-4f4e-b161-76b311fbfd2f",
   "metadata": {},
   "source": [
    "This data set includes many features/ columns so we will be narrowing them down to a smaller subset of feeatures to consider"
   ]
  },
  {
   "cell_type": "code",
   "execution_count": 3,
   "id": "7c0c5969-b777-407f-af05-548486a5ee8a",
   "metadata": {},
   "outputs": [
    {
     "data": {
      "text/html": [
       "<div>\n",
       "<style scoped>\n",
       "    .dataframe tbody tr th:only-of-type {\n",
       "        vertical-align: middle;\n",
       "    }\n",
       "\n",
       "    .dataframe tbody tr th {\n",
       "        vertical-align: top;\n",
       "    }\n",
       "\n",
       "    .dataframe thead th {\n",
       "        text-align: right;\n",
       "    }\n",
       "</style>\n",
       "<table border=\"1\" class=\"dataframe\">\n",
       "  <thead>\n",
       "    <tr style=\"text-align: right;\">\n",
       "      <th></th>\n",
       "      <th>AGEP</th>\n",
       "      <th>SCHL</th>\n",
       "      <th>MAR</th>\n",
       "      <th>RELP</th>\n",
       "      <th>DIS</th>\n",
       "      <th>ESP</th>\n",
       "      <th>CIT</th>\n",
       "      <th>MIG</th>\n",
       "      <th>MIL</th>\n",
       "      <th>ANC</th>\n",
       "      <th>NATIVITY</th>\n",
       "      <th>DEAR</th>\n",
       "      <th>DEYE</th>\n",
       "      <th>DREM</th>\n",
       "      <th>SEX</th>\n",
       "      <th>PINCP</th>\n",
       "      <th>RAC1P</th>\n",
       "      <th>ESR</th>\n",
       "    </tr>\n",
       "  </thead>\n",
       "  <tbody>\n",
       "    <tr>\n",
       "      <th>0</th>\n",
       "      <td>23</td>\n",
       "      <td>21.0</td>\n",
       "      <td>5</td>\n",
       "      <td>17</td>\n",
       "      <td>2</td>\n",
       "      <td>NaN</td>\n",
       "      <td>5</td>\n",
       "      <td>2.0</td>\n",
       "      <td>4.0</td>\n",
       "      <td>1</td>\n",
       "      <td>2</td>\n",
       "      <td>2</td>\n",
       "      <td>2</td>\n",
       "      <td>2.0</td>\n",
       "      <td>1</td>\n",
       "      <td>0.0</td>\n",
       "      <td>6</td>\n",
       "      <td>6.0</td>\n",
       "    </tr>\n",
       "    <tr>\n",
       "      <th>1</th>\n",
       "      <td>51</td>\n",
       "      <td>20.0</td>\n",
       "      <td>4</td>\n",
       "      <td>17</td>\n",
       "      <td>2</td>\n",
       "      <td>NaN</td>\n",
       "      <td>4</td>\n",
       "      <td>1.0</td>\n",
       "      <td>4.0</td>\n",
       "      <td>1</td>\n",
       "      <td>2</td>\n",
       "      <td>2</td>\n",
       "      <td>2</td>\n",
       "      <td>2.0</td>\n",
       "      <td>1</td>\n",
       "      <td>0.0</td>\n",
       "      <td>1</td>\n",
       "      <td>1.0</td>\n",
       "    </tr>\n",
       "    <tr>\n",
       "      <th>2</th>\n",
       "      <td>69</td>\n",
       "      <td>19.0</td>\n",
       "      <td>3</td>\n",
       "      <td>16</td>\n",
       "      <td>1</td>\n",
       "      <td>NaN</td>\n",
       "      <td>1</td>\n",
       "      <td>1.0</td>\n",
       "      <td>4.0</td>\n",
       "      <td>4</td>\n",
       "      <td>1</td>\n",
       "      <td>2</td>\n",
       "      <td>2</td>\n",
       "      <td>2.0</td>\n",
       "      <td>1</td>\n",
       "      <td>0.0</td>\n",
       "      <td>1</td>\n",
       "      <td>6.0</td>\n",
       "    </tr>\n",
       "    <tr>\n",
       "      <th>3</th>\n",
       "      <td>18</td>\n",
       "      <td>16.0</td>\n",
       "      <td>5</td>\n",
       "      <td>16</td>\n",
       "      <td>1</td>\n",
       "      <td>NaN</td>\n",
       "      <td>1</td>\n",
       "      <td>1.0</td>\n",
       "      <td>4.0</td>\n",
       "      <td>2</td>\n",
       "      <td>1</td>\n",
       "      <td>2</td>\n",
       "      <td>2</td>\n",
       "      <td>1.0</td>\n",
       "      <td>2</td>\n",
       "      <td>0.0</td>\n",
       "      <td>9</td>\n",
       "      <td>6.0</td>\n",
       "    </tr>\n",
       "    <tr>\n",
       "      <th>4</th>\n",
       "      <td>89</td>\n",
       "      <td>19.0</td>\n",
       "      <td>2</td>\n",
       "      <td>16</td>\n",
       "      <td>1</td>\n",
       "      <td>NaN</td>\n",
       "      <td>1</td>\n",
       "      <td>1.0</td>\n",
       "      <td>4.0</td>\n",
       "      <td>4</td>\n",
       "      <td>1</td>\n",
       "      <td>2</td>\n",
       "      <td>2</td>\n",
       "      <td>1.0</td>\n",
       "      <td>2</td>\n",
       "      <td>0.0</td>\n",
       "      <td>1</td>\n",
       "      <td>6.0</td>\n",
       "    </tr>\n",
       "  </tbody>\n",
       "</table>\n",
       "</div>"
      ],
      "text/plain": [
       "   AGEP  SCHL  MAR  RELP  DIS  ESP  CIT  MIG  MIL  ANC  NATIVITY  DEAR  DEYE  \\\n",
       "0    23  21.0    5    17    2  NaN    5  2.0  4.0    1         2     2     2   \n",
       "1    51  20.0    4    17    2  NaN    4  1.0  4.0    1         2     2     2   \n",
       "2    69  19.0    3    16    1  NaN    1  1.0  4.0    4         1     2     2   \n",
       "3    18  16.0    5    16    1  NaN    1  1.0  4.0    2         1     2     2   \n",
       "4    89  19.0    2    16    1  NaN    1  1.0  4.0    4         1     2     2   \n",
       "\n",
       "   DREM  SEX  PINCP  RAC1P  ESR  \n",
       "0   2.0    1    0.0      6  6.0  \n",
       "1   2.0    1    0.0      1  1.0  \n",
       "2   2.0    1    0.0      1  6.0  \n",
       "3   1.0    2    0.0      9  6.0  \n",
       "4   1.0    2    0.0      1  6.0  "
      ]
     },
     "execution_count": 3,
     "metadata": {},
     "output_type": "execute_result"
    }
   ],
   "source": [
    "possible_features=['AGEP', 'SCHL', 'MAR', 'RELP', 'DIS', 'ESP', 'CIT', 'MIG', 'MIL', 'ANC', 'NATIVITY', 'DEAR', 'DEYE', 'DREM', 'SEX',\"PINCP\", 'RAC1P', 'ESR']\n",
    "acs_data[possible_features].head()"
   ]
  },
  {
   "cell_type": "markdown",
   "id": "bb04cf44-a491-4720-8679-8e201ab5d492",
   "metadata": {},
   "source": [
    "subsetting the features:"
   ]
  },
  {
   "cell_type": "code",
   "execution_count": 4,
   "id": "0c00c4a0-2aa8-4c0d-93b3-a21ed4ef097e",
   "metadata": {},
   "outputs": [],
   "source": [
    "features_to_use = [f for f in possible_features if f not in [\"PINCP\", \"SEX\"]]"
   ]
  },
  {
   "cell_type": "markdown",
   "id": "c291c0f1-ff20-48a6-8b54-4033c9000dd7",
   "metadata": {},
   "source": [
    "Now we construct a basic problem to express our wish to use these features to predict if income (PINCP) >=$50,000 , using the race RAC1P as the group label"
   ]
  },
  {
   "cell_type": "code",
   "execution_count": 5,
   "id": "a058884f-f09c-494c-8c76-73f5a810fe4c",
   "metadata": {},
   "outputs": [],
   "source": [
    "IncomeProblem = BasicProblem(\n",
    "    features=features_to_use,\n",
    "    target='PINCP',\n",
    "    target_transform=lambda x: x == 1,\n",
    "    group='SEX',\n",
    "    preprocess=lambda x: x,\n",
    "    postprocess=lambda x: np.nan_to_num(x, -1),\n",
    ")\n",
    "\n",
    "features, label, group = IncomeProblem.df_to_numpy(acs_data)"
   ]
  },
  {
   "cell_type": "markdown",
   "id": "3dedc469-1839-4a4f-9e05-7c94240bbe2e",
   "metadata": {},
   "source": [
    "The result is a features matrix, a label vector and a group label vector"
   ]
  },
  {
   "cell_type": "code",
   "execution_count": 6,
   "id": "35b1f68f-ae24-454e-9296-8dad2473651b",
   "metadata": {},
   "outputs": [
    {
     "name": "stdout",
     "output_type": "stream",
     "text": [
      "(88586, 16)\n",
      "(88586,)\n",
      "(88586,)\n"
     ]
    }
   ],
   "source": [
    "for obj in [features, label, group]:\n",
    "  print(obj.shape)"
   ]
  },
  {
   "cell_type": "markdown",
   "id": "8b043c82-8a67-4199-8955-cb8aee135182",
   "metadata": {},
   "source": [
    "We should perform a train-test split to split our data into training and testing subsets"
   ]
  },
  {
   "cell_type": "code",
   "execution_count": 7,
   "id": "8366e6b2-a1af-4a0c-9f95-0cbff57eb11e",
   "metadata": {},
   "outputs": [],
   "source": [
    "from sklearn.model_selection import train_test_split\n",
    "X_train, X_test, y_train, y_test, group_train, group_test = train_test_split(\n",
    "    features, label, group, test_size=0.2, random_state=0)"
   ]
  },
  {
   "cell_type": "markdown",
   "id": "1d7e6f97-1703-4e5d-a923-9a5002bec4d6",
   "metadata": {},
   "source": [
    "## Basic Descriptives"
   ]
  },
  {
   "cell_type": "code",
   "execution_count": 8,
   "id": "5a6cd7bf-c576-4707-b88a-baac4006faa8",
   "metadata": {},
   "outputs": [
    {
     "data": {
      "text/html": [
       "<div>\n",
       "<style scoped>\n",
       "    .dataframe tbody tr th:only-of-type {\n",
       "        vertical-align: middle;\n",
       "    }\n",
       "\n",
       "    .dataframe tbody tr th {\n",
       "        vertical-align: top;\n",
       "    }\n",
       "\n",
       "    .dataframe thead th {\n",
       "        text-align: right;\n",
       "    }\n",
       "</style>\n",
       "<table border=\"1\" class=\"dataframe\">\n",
       "  <thead>\n",
       "    <tr style=\"text-align: right;\">\n",
       "      <th></th>\n",
       "      <th>AGEP</th>\n",
       "      <th>SCHL</th>\n",
       "      <th>MAR</th>\n",
       "      <th>RELP</th>\n",
       "      <th>DIS</th>\n",
       "      <th>ESP</th>\n",
       "      <th>CIT</th>\n",
       "      <th>MIG</th>\n",
       "      <th>MIL</th>\n",
       "      <th>ANC</th>\n",
       "      <th>NATIVITY</th>\n",
       "      <th>DEAR</th>\n",
       "      <th>DEYE</th>\n",
       "      <th>DREM</th>\n",
       "      <th>RAC1P</th>\n",
       "      <th>ESR</th>\n",
       "      <th>group</th>\n",
       "      <th>label</th>\n",
       "    </tr>\n",
       "  </thead>\n",
       "  <tbody>\n",
       "    <tr>\n",
       "      <th>0</th>\n",
       "      <td>31.0</td>\n",
       "      <td>14.0</td>\n",
       "      <td>5.0</td>\n",
       "      <td>0.0</td>\n",
       "      <td>2.0</td>\n",
       "      <td>0.0</td>\n",
       "      <td>2.0</td>\n",
       "      <td>3.0</td>\n",
       "      <td>4.0</td>\n",
       "      <td>1.0</td>\n",
       "      <td>1.0</td>\n",
       "      <td>2.0</td>\n",
       "      <td>2.0</td>\n",
       "      <td>2.0</td>\n",
       "      <td>1.0</td>\n",
       "      <td>1.0</td>\n",
       "      <td>2</td>\n",
       "      <td>False</td>\n",
       "    </tr>\n",
       "    <tr>\n",
       "      <th>1</th>\n",
       "      <td>40.0</td>\n",
       "      <td>21.0</td>\n",
       "      <td>1.0</td>\n",
       "      <td>1.0</td>\n",
       "      <td>2.0</td>\n",
       "      <td>0.0</td>\n",
       "      <td>5.0</td>\n",
       "      <td>1.0</td>\n",
       "      <td>4.0</td>\n",
       "      <td>1.0</td>\n",
       "      <td>2.0</td>\n",
       "      <td>2.0</td>\n",
       "      <td>2.0</td>\n",
       "      <td>2.0</td>\n",
       "      <td>6.0</td>\n",
       "      <td>6.0</td>\n",
       "      <td>2</td>\n",
       "      <td>False</td>\n",
       "    </tr>\n",
       "    <tr>\n",
       "      <th>2</th>\n",
       "      <td>40.0</td>\n",
       "      <td>22.0</td>\n",
       "      <td>1.0</td>\n",
       "      <td>0.0</td>\n",
       "      <td>2.0</td>\n",
       "      <td>0.0</td>\n",
       "      <td>5.0</td>\n",
       "      <td>1.0</td>\n",
       "      <td>4.0</td>\n",
       "      <td>1.0</td>\n",
       "      <td>2.0</td>\n",
       "      <td>2.0</td>\n",
       "      <td>2.0</td>\n",
       "      <td>2.0</td>\n",
       "      <td>6.0</td>\n",
       "      <td>1.0</td>\n",
       "      <td>1</td>\n",
       "      <td>True</td>\n",
       "    </tr>\n",
       "    <tr>\n",
       "      <th>3</th>\n",
       "      <td>34.0</td>\n",
       "      <td>21.0</td>\n",
       "      <td>1.0</td>\n",
       "      <td>1.0</td>\n",
       "      <td>2.0</td>\n",
       "      <td>0.0</td>\n",
       "      <td>1.0</td>\n",
       "      <td>3.0</td>\n",
       "      <td>4.0</td>\n",
       "      <td>2.0</td>\n",
       "      <td>1.0</td>\n",
       "      <td>2.0</td>\n",
       "      <td>2.0</td>\n",
       "      <td>2.0</td>\n",
       "      <td>1.0</td>\n",
       "      <td>1.0</td>\n",
       "      <td>2</td>\n",
       "      <td>True</td>\n",
       "    </tr>\n",
       "    <tr>\n",
       "      <th>4</th>\n",
       "      <td>75.0</td>\n",
       "      <td>20.0</td>\n",
       "      <td>5.0</td>\n",
       "      <td>0.0</td>\n",
       "      <td>1.0</td>\n",
       "      <td>0.0</td>\n",
       "      <td>1.0</td>\n",
       "      <td>1.0</td>\n",
       "      <td>4.0</td>\n",
       "      <td>1.0</td>\n",
       "      <td>1.0</td>\n",
       "      <td>2.0</td>\n",
       "      <td>2.0</td>\n",
       "      <td>2.0</td>\n",
       "      <td>1.0</td>\n",
       "      <td>6.0</td>\n",
       "      <td>2</td>\n",
       "      <td>False</td>\n",
       "    </tr>\n",
       "    <tr>\n",
       "      <th>...</th>\n",
       "      <td>...</td>\n",
       "      <td>...</td>\n",
       "      <td>...</td>\n",
       "      <td>...</td>\n",
       "      <td>...</td>\n",
       "      <td>...</td>\n",
       "      <td>...</td>\n",
       "      <td>...</td>\n",
       "      <td>...</td>\n",
       "      <td>...</td>\n",
       "      <td>...</td>\n",
       "      <td>...</td>\n",
       "      <td>...</td>\n",
       "      <td>...</td>\n",
       "      <td>...</td>\n",
       "      <td>...</td>\n",
       "      <td>...</td>\n",
       "      <td>...</td>\n",
       "    </tr>\n",
       "    <tr>\n",
       "      <th>70863</th>\n",
       "      <td>66.0</td>\n",
       "      <td>21.0</td>\n",
       "      <td>4.0</td>\n",
       "      <td>0.0</td>\n",
       "      <td>2.0</td>\n",
       "      <td>0.0</td>\n",
       "      <td>1.0</td>\n",
       "      <td>1.0</td>\n",
       "      <td>4.0</td>\n",
       "      <td>2.0</td>\n",
       "      <td>1.0</td>\n",
       "      <td>2.0</td>\n",
       "      <td>2.0</td>\n",
       "      <td>2.0</td>\n",
       "      <td>1.0</td>\n",
       "      <td>1.0</td>\n",
       "      <td>2</td>\n",
       "      <td>False</td>\n",
       "    </tr>\n",
       "    <tr>\n",
       "      <th>70864</th>\n",
       "      <td>32.0</td>\n",
       "      <td>16.0</td>\n",
       "      <td>5.0</td>\n",
       "      <td>2.0</td>\n",
       "      <td>2.0</td>\n",
       "      <td>0.0</td>\n",
       "      <td>1.0</td>\n",
       "      <td>1.0</td>\n",
       "      <td>4.0</td>\n",
       "      <td>2.0</td>\n",
       "      <td>1.0</td>\n",
       "      <td>2.0</td>\n",
       "      <td>2.0</td>\n",
       "      <td>2.0</td>\n",
       "      <td>1.0</td>\n",
       "      <td>1.0</td>\n",
       "      <td>1</td>\n",
       "      <td>False</td>\n",
       "    </tr>\n",
       "    <tr>\n",
       "      <th>70865</th>\n",
       "      <td>54.0</td>\n",
       "      <td>22.0</td>\n",
       "      <td>1.0</td>\n",
       "      <td>0.0</td>\n",
       "      <td>2.0</td>\n",
       "      <td>0.0</td>\n",
       "      <td>1.0</td>\n",
       "      <td>1.0</td>\n",
       "      <td>4.0</td>\n",
       "      <td>1.0</td>\n",
       "      <td>1.0</td>\n",
       "      <td>2.0</td>\n",
       "      <td>2.0</td>\n",
       "      <td>2.0</td>\n",
       "      <td>1.0</td>\n",
       "      <td>1.0</td>\n",
       "      <td>1</td>\n",
       "      <td>True</td>\n",
       "    </tr>\n",
       "    <tr>\n",
       "      <th>70866</th>\n",
       "      <td>42.0</td>\n",
       "      <td>19.0</td>\n",
       "      <td>1.0</td>\n",
       "      <td>0.0</td>\n",
       "      <td>2.0</td>\n",
       "      <td>0.0</td>\n",
       "      <td>1.0</td>\n",
       "      <td>1.0</td>\n",
       "      <td>4.0</td>\n",
       "      <td>1.0</td>\n",
       "      <td>1.0</td>\n",
       "      <td>2.0</td>\n",
       "      <td>2.0</td>\n",
       "      <td>2.0</td>\n",
       "      <td>1.0</td>\n",
       "      <td>1.0</td>\n",
       "      <td>1</td>\n",
       "      <td>False</td>\n",
       "    </tr>\n",
       "    <tr>\n",
       "      <th>70867</th>\n",
       "      <td>38.0</td>\n",
       "      <td>14.0</td>\n",
       "      <td>5.0</td>\n",
       "      <td>0.0</td>\n",
       "      <td>2.0</td>\n",
       "      <td>0.0</td>\n",
       "      <td>1.0</td>\n",
       "      <td>1.0</td>\n",
       "      <td>4.0</td>\n",
       "      <td>1.0</td>\n",
       "      <td>1.0</td>\n",
       "      <td>2.0</td>\n",
       "      <td>2.0</td>\n",
       "      <td>2.0</td>\n",
       "      <td>2.0</td>\n",
       "      <td>1.0</td>\n",
       "      <td>2</td>\n",
       "      <td>False</td>\n",
       "    </tr>\n",
       "  </tbody>\n",
       "</table>\n",
       "<p>70868 rows × 18 columns</p>\n",
       "</div>"
      ],
      "text/plain": [
       "       AGEP  SCHL  MAR  RELP  DIS  ESP  CIT  MIG  MIL  ANC  NATIVITY  DEAR  \\\n",
       "0      31.0  14.0  5.0   0.0  2.0  0.0  2.0  3.0  4.0  1.0       1.0   2.0   \n",
       "1      40.0  21.0  1.0   1.0  2.0  0.0  5.0  1.0  4.0  1.0       2.0   2.0   \n",
       "2      40.0  22.0  1.0   0.0  2.0  0.0  5.0  1.0  4.0  1.0       2.0   2.0   \n",
       "3      34.0  21.0  1.0   1.0  2.0  0.0  1.0  3.0  4.0  2.0       1.0   2.0   \n",
       "4      75.0  20.0  5.0   0.0  1.0  0.0  1.0  1.0  4.0  1.0       1.0   2.0   \n",
       "...     ...   ...  ...   ...  ...  ...  ...  ...  ...  ...       ...   ...   \n",
       "70863  66.0  21.0  4.0   0.0  2.0  0.0  1.0  1.0  4.0  2.0       1.0   2.0   \n",
       "70864  32.0  16.0  5.0   2.0  2.0  0.0  1.0  1.0  4.0  2.0       1.0   2.0   \n",
       "70865  54.0  22.0  1.0   0.0  2.0  0.0  1.0  1.0  4.0  1.0       1.0   2.0   \n",
       "70866  42.0  19.0  1.0   0.0  2.0  0.0  1.0  1.0  4.0  1.0       1.0   2.0   \n",
       "70867  38.0  14.0  5.0   0.0  2.0  0.0  1.0  1.0  4.0  1.0       1.0   2.0   \n",
       "\n",
       "       DEYE  DREM  RAC1P  ESR  group  label  \n",
       "0       2.0   2.0    1.0  1.0      2  False  \n",
       "1       2.0   2.0    6.0  6.0      2  False  \n",
       "2       2.0   2.0    6.0  1.0      1   True  \n",
       "3       2.0   2.0    1.0  1.0      2   True  \n",
       "4       2.0   2.0    1.0  6.0      2  False  \n",
       "...     ...   ...    ...  ...    ...    ...  \n",
       "70863   2.0   2.0    1.0  1.0      2  False  \n",
       "70864   2.0   2.0    1.0  1.0      1  False  \n",
       "70865   2.0   2.0    1.0  1.0      1   True  \n",
       "70866   2.0   2.0    1.0  1.0      1  False  \n",
       "70867   2.0   2.0    2.0  1.0      2  False  \n",
       "\n",
       "[70868 rows x 18 columns]"
      ]
     },
     "execution_count": 8,
     "metadata": {},
     "output_type": "execute_result"
    }
   ],
   "source": [
    "import pandas as pd\n",
    "df = pd.DataFrame(X_train, columns = features_to_use)\n",
    "df[\"group\"] = group_train\n",
    "df[\"label\"] = y_train\n",
    "df"
   ]
  },
  {
   "cell_type": "markdown",
   "id": "f8244b2a-ab3d-4dcf-8ff3-b531b8de23a2",
   "metadata": {},
   "source": [
    "There are 70868 individuals in the data. Now lets look at what proportion have the target label equal to 1"
   ]
  },
  {
   "cell_type": "code",
   "execution_count": 9,
   "id": "b33ed167-151b-47d9-b8d3-2ad9f8ef16ef",
   "metadata": {},
   "outputs": [
    {
     "data": {
      "text/plain": [
       "0.29835750973641134"
      ]
     },
     "execution_count": 9,
     "metadata": {},
     "output_type": "execute_result"
    }
   ],
   "source": [
    "(df[\"label\"]==1).mean()"
   ]
  },
  {
   "cell_type": "markdown",
   "id": "f3462351-871c-4ab0-9380-f08f0df0d1bb",
   "metadata": {},
   "source": [
    "31.2% of the data has a target label of 1 meaning 31.2% of the individuals had a total income of at least $50,000. Now, let's check how many people are in each of the groups. The distribution is as follows:"
   ]
  },
  {
   "cell_type": "code",
   "execution_count": 10,
   "id": "7cf348e6-0085-46ab-b66f-31f9d79b3508",
   "metadata": {},
   "outputs": [
    {
     "data": {
      "text/plain": [
       "2    36491\n",
       "1    34377\n",
       "Name: group, dtype: int64"
      ]
     },
     "execution_count": 10,
     "metadata": {},
     "output_type": "execute_result"
    }
   ],
   "source": [
    "df[\"group\"].value_counts()"
   ]
  },
  {
   "cell_type": "markdown",
   "id": "39af8a69-abf4-47fb-8a18-61270920532c",
   "metadata": {},
   "source": [
    "Now we will look at what proportion of individuals have the target label equal to 1. The distribution values are below"
   ]
  },
  {
   "cell_type": "code",
   "execution_count": 11,
   "id": "d017fbad-e47f-4aaa-b4ec-bdf40a4678ff",
   "metadata": {},
   "outputs": [
    {
     "data": {
      "text/plain": [
       "group\n",
       "1    0.363237\n",
       "2    0.237237\n",
       "Name: label, dtype: float64"
      ]
     },
     "execution_count": 11,
     "metadata": {},
     "output_type": "execute_result"
    }
   ],
   "source": [
    "df.groupby([\"group\"])[\"label\"].mean()"
   ]
  },
  {
   "cell_type": "markdown",
   "id": "36ecc520-48cb-4419-be00-5f8ebf5ef7e1",
   "metadata": {},
   "source": [
    "Now we will look at intersectional trends "
   ]
  },
  {
   "cell_type": "code",
   "execution_count": 12,
   "id": "983decb7-6ec4-458d-add4-0a9b6246c45f",
   "metadata": {},
   "outputs": [
    {
     "data": {
      "image/png": "[encoded data removed]",
      "text/plain": [
       "<Figure size 640x480 with 1 Axes>"
      ]
     },
     "metadata": {},
     "output_type": "display_data"
    }
   ],
   "source": [
    "means = df.groupby([\"group\",\"RAC1P\"])[\"label\"].mean().reset_index(name = \"proportion of individuals that have target label of 1\")\n",
    "p = sns.barplot(data = means, x = \"group\", y = \"proportion of individuals that have target label of 1\", hue = \"RAC1P\")"
   ]
  },
  {
   "cell_type": "markdown",
   "id": "97441cb8-b118-4ad0-b840-f428a08801d5",
   "metadata": {},
   "source": [
    "| Group | RAC1P |\n",
    "| --- | --- |\n",
    "| 1: male | 1: White alone |\n",
    "| 2: female | 2: Black or African American alone |\n",
    "| | 3: American Indian alone |\n",
    "| | 4: Alaska Native alone |\n",
    "| | 5: American Indian, Alaska Native alone|\n",
    "| | 6: Asian alone | \n",
    "| | 7: Native Hawaiian and Other Pacific Islander alone |\n",
    "| | 8: Some other race alone |\n",
    "| | 9: Two or More Races |"
   ]
  },
  {
   "cell_type": "markdown",
   "id": "eb26dfd6-6066-4be6-80f6-89fa367fa6ce",
   "metadata": {},
   "source": [
    "We are looking to see the breakdown of individuals who have a target label of 1 (meaning they have an income >=$50,000) given their race and gender. We can use the mean as our metric because our target label is binary. So, the mean is the proportion of labels with the value 1. It seems like white and asians are the groups with the highest proportion of individuals that have a target label of 1 within both genders"
   ]
  },
  {
   "cell_type": "code",
   "execution_count": 13,
   "id": "ce80c2d4-7b0f-4447-8ef9-c18c43c5949a",
   "metadata": {},
   "outputs": [
    {
     "data": {
      "image/png": "[encoded data removed]",
      "text/plain": [
       "<Figure size 640x480 with 1 Axes>"
      ]
     },
     "metadata": {},
     "output_type": "display_data"
    }
   ],
   "source": [
    "means = df.groupby([\"group\",\"DIS\"])[\"label\"].mean().reset_index(name = \"proportion of individuals that have target label of 1\")\n",
    "p = sns.barplot(data = means, x = \"group\", y = \"proportion of individuals that have target label of 1\", hue = \"DIS\")"
   ]
  },
  {
   "cell_type": "markdown",
   "id": "d68bbdc8-903d-4c84-a820-1d79a7612381",
   "metadata": {},
   "source": [
    "For the both groups, there is a correlation between an income over $50,000 and disability status"
   ]
  },
  {
   "cell_type": "markdown",
   "id": "d09019ad-3505-4bb5-a799-f1faa0ca55b3",
   "metadata": {},
   "source": [
    "## Training a model"
   ]
  },
  {
   "cell_type": "markdown",
   "id": "d5db0766-32ee-4cc8-b27a-d00147648d93",
   "metadata": {},
   "source": [
    "We will build our model using a decision tree approach. Let's use cross validation to determine the best depth."
   ]
  },
  {
   "cell_type": "code",
   "execution_count": 14,
   "id": "e0e96a04-ecc7-4455-9c1d-070eba2c8452",
   "metadata": {},
   "outputs": [
    {
     "name": "stdout",
     "output_type": "stream",
     "text": [
      "8 0.8248292705055139\n"
     ]
    }
   ],
   "source": [
    "from sklearn.svm import SVC\n",
    "from sklearn.linear_model import LogisticRegression\n",
    "from sklearn.pipeline import make_pipeline\n",
    "from sklearn.preprocessing import StandardScaler\n",
    "from sklearn.metrics import confusion_matrix\n",
    "from sklearn.model_selection import cross_val_score\n",
    "from sklearn.tree import DecisionTreeClassifier\n",
    "\n",
    "best_score = -np.inf\n",
    "best_depth = 0\n",
    "\n",
    "for depth in range(2,10):\n",
    "    pipeline = make_pipeline(StandardScaler(),DecisionTreeClassifier(max_depth = depth))\n",
    "    scores = cross_val_score(pipeline,X_train,y_train,cv = 6)\n",
    "    if scores.mean()>best_score:\n",
    "            best_score = scores.mean()\n",
    "            best_depth = depth\n",
    "print(best_depth,best_score)\n",
    "    \n"
   ]
  },
  {
   "cell_type": "markdown",
   "id": "92868297-8253-4147-970d-d382e38f8264",
   "metadata": {},
   "source": [
    "Now, let's build our final model"
   ]
  },
  {
   "cell_type": "code",
   "execution_count": 15,
   "id": "c9ab40b2-ffba-44b1-82fc-dd25845648f4",
   "metadata": {},
   "outputs": [
    {
     "data": {
      "text/html": [
       "<style>#sk-container-id-1 {color: black;background-color: white;}#sk-container-id-1 pre{padding: 0;}#sk-container-id-1 div.sk-toggleable {background-color: white;}#sk-container-id-1 label.sk-toggleable__label {cursor: pointer;display: block;width: 100%;margin-bottom: 0;padding: 0.3em;box-sizing: border-box;text-align: center;}#sk-container-id-1 label.sk-toggleable__label-arrow:before {content: \"▸\";float: left;margin-right: 0.25em;color: #696969;}#sk-container-id-1 label.sk-toggleable__label-arrow:hover:before {color: black;}#sk-container-id-1 div.sk-estimator:hover label.sk-toggleable__label-arrow:before {color: black;}#sk-container-id-1 div.sk-toggleable__content {max-height: 0;max-width: 0;overflow: hidden;text-align: left;background-color: #f0f8ff;}#sk-container-id-1 div.sk-toggleable__content pre {margin: 0.2em;color: black;border-radius: 0.25em;background-color: #f0f8ff;}#sk-container-id-1 input.sk-toggleable__control:checked~div.sk-toggleable__content {max-height: 200px;max-width: 100%;overflow: auto;}#sk-container-id-1 input.sk-toggleable__control:checked~label.sk-toggleable__label-arrow:before {content: \"▾\";}#sk-container-id-1 div.sk-estimator input.sk-toggleable__control:checked~label.sk-toggleable__label {background-color: #d4ebff;}#sk-container-id-1 div.sk-label input.sk-toggleable__control:checked~label.sk-toggleable__label {background-color: #d4ebff;}#sk-container-id-1 input.sk-hidden--visually {border: 0;clip: rect(1px 1px 1px 1px);clip: rect(1px, 1px, 1px, 1px);height: 1px;margin: -1px;overflow: hidden;padding: 0;position: absolute;width: 1px;}#sk-container-id-1 div.sk-estimator {font-family: monospace;background-color: #f0f8ff;border: 1px dotted black;border-radius: 0.25em;box-sizing: border-box;margin-bottom: 0.5em;}#sk-container-id-1 div.sk-estimator:hover {background-color: #d4ebff;}#sk-container-id-1 div.sk-parallel-item::after {content: \"\";width: 100%;border-bottom: 1px solid gray;flex-grow: 1;}#sk-container-id-1 div.sk-label:hover label.sk-toggleable__label {background-color: #d4ebff;}#sk-container-id-1 div.sk-serial::before {content: \"\";position: absolute;border-left: 1px solid gray;box-sizing: border-box;top: 0;bottom: 0;left: 50%;z-index: 0;}#sk-container-id-1 div.sk-serial {display: flex;flex-direction: column;align-items: center;background-color: white;padding-right: 0.2em;padding-left: 0.2em;position: relative;}#sk-container-id-1 div.sk-item {position: relative;z-index: 1;}#sk-container-id-1 div.sk-parallel {display: flex;align-items: stretch;justify-content: center;background-color: white;position: relative;}#sk-container-id-1 div.sk-item::before, #sk-container-id-1 div.sk-parallel-item::before {content: \"\";position: absolute;border-left: 1px solid gray;box-sizing: border-box;top: 0;bottom: 0;left: 50%;z-index: -1;}#sk-container-id-1 div.sk-parallel-item {display: flex;flex-direction: column;z-index: 1;position: relative;background-color: white;}#sk-container-id-1 div.sk-parallel-item:first-child::after {align-self: flex-end;width: 50%;}#sk-container-id-1 div.sk-parallel-item:last-child::after {align-self: flex-start;width: 50%;}#sk-container-id-1 div.sk-parallel-item:only-child::after {width: 0;}#sk-container-id-1 div.sk-dashed-wrapped {border: 1px dashed gray;margin: 0 0.4em 0.5em 0.4em;box-sizing: border-box;padding-bottom: 0.4em;background-color: white;}#sk-container-id-1 div.sk-label label {font-family: monospace;font-weight: bold;display: inline-block;line-height: 1.2em;}#sk-container-id-1 div.sk-label-container {text-align: center;}#sk-container-id-1 div.sk-container {/* jupyter's `normalize.less` sets `[hidden] { display: none; }` but bootstrap.min.css set `[hidden] { display: none !important; }` so we also need the `!important` here to be able to override the default hidden behavior on the sphinx rendered scikit-learn.org. See: https://github.com/scikit-learn/scikit-learn/issues/21755 */display: inline-block !important;position: relative;}#sk-container-id-1 div.sk-text-repr-fallback {display: none;}</style><div id=\"sk-container-id-1\" class=\"sk-top-container\"><div class=\"sk-text-repr-fallback\"><pre>Pipeline(steps=[(&#x27;standardscaler&#x27;, StandardScaler()),\n",
       "                (&#x27;decisiontreeclassifier&#x27;,\n",
       "                 DecisionTreeClassifier(max_depth=8))])</pre><b>In a Jupyter environment, please rerun this cell to show the HTML representation or trust the notebook. <br />On GitHub, the HTML representation is unable to render, please try loading this page with nbviewer.org.</b></div><div class=\"sk-container\" hidden><div class=\"sk-item sk-dashed-wrapped\"><div class=\"sk-label-container\"><div class=\"sk-label sk-toggleable\"><input class=\"sk-toggleable__control sk-hidden--visually\" id=\"sk-estimator-id-1\" type=\"checkbox\" ><label for=\"sk-estimator-id-1\" class=\"sk-toggleable__label sk-toggleable__label-arrow\">Pipeline</label><div class=\"sk-toggleable__content\"><pre>Pipeline(steps=[(&#x27;standardscaler&#x27;, StandardScaler()),\n",
       "                (&#x27;decisiontreeclassifier&#x27;,\n",
       "                 DecisionTreeClassifier(max_depth=8))])</pre></div></div></div><div class=\"sk-serial\"><div class=\"sk-item\"><div class=\"sk-estimator sk-toggleable\"><input class=\"sk-toggleable__control sk-hidden--visually\" id=\"sk-estimator-id-2\" type=\"checkbox\" ><label for=\"sk-estimator-id-2\" class=\"sk-toggleable__label sk-toggleable__label-arrow\">StandardScaler</label><div class=\"sk-toggleable__content\"><pre>StandardScaler()</pre></div></div></div><div class=\"sk-item\"><div class=\"sk-estimator sk-toggleable\"><input class=\"sk-toggleable__control sk-hidden--visually\" id=\"sk-estimator-id-3\" type=\"checkbox\" ><label for=\"sk-estimator-id-3\" class=\"sk-toggleable__label sk-toggleable__label-arrow\">DecisionTreeClassifier</label><div class=\"sk-toggleable__content\"><pre>DecisionTreeClassifier(max_depth=8)</pre></div></div></div></div></div></div></div>"
      ],
      "text/plain": [
       "Pipeline(steps=[('standardscaler', StandardScaler()),\n",
       "                ('decisiontreeclassifier',\n",
       "                 DecisionTreeClassifier(max_depth=8))])"
      ]
     },
     "execution_count": 15,
     "metadata": {},
     "output_type": "execute_result"
    }
   ],
   "source": [
    "model = make_pipeline(StandardScaler(),DecisionTreeClassifier(max_depth=8))\n",
    "model.fit(X_train,y_train)"
   ]
  },
  {
   "cell_type": "markdown",
   "id": "90066b66-69e4-41fb-8bb7-66db570d56f8",
   "metadata": {},
   "source": [
    "Now we can generate predictions:"
   ]
  },
  {
   "cell_type": "code",
   "execution_count": 16,
   "id": "46010c9b-3631-4bfa-9320-1cc0381b3625",
   "metadata": {},
   "outputs": [],
   "source": [
    "y_hat = model.predict(X_test)"
   ]
  },
  {
   "cell_type": "markdown",
   "id": "0531c107-84f2-41f7-84c0-3fb1f34ddc0f",
   "metadata": {},
   "source": [
    "---"
   ]
  },
  {
   "cell_type": "markdown",
   "id": "0ecb1bda-e63a-4964-9313-25450b3f1699",
   "metadata": {},
   "source": [
    "### Overall Metrics"
   ]
  },
  {
   "cell_type": "markdown",
   "id": "7749ec4a-c917-4ffa-86e1-e870e468edd4",
   "metadata": {},
   "source": [
    "The overall accuracy of the model represents the percentage of times that it will correctly predict the target label. So, we are comparing the correct labels to the target labels and taking the mean. Because our label is binary we can take the mean of our equivalence array as the number of times 1 appear (signifying the labels match) is the mean"
   ]
  },
  {
   "cell_type": "code",
   "execution_count": 17,
   "id": "6cbd218f-42b9-40c9-bf95-8a64b4abc5ee",
   "metadata": {},
   "outputs": [
    {
     "name": "stdout",
     "output_type": "stream",
     "text": [
      "The overall accuracy of this model is: 0.8219\n"
     ]
    }
   ],
   "source": [
    "print(\"The overall accuracy of this model is: \" + str((y_hat==y_test).mean().round(4)))"
   ]
  },
  {
   "cell_type": "markdown",
   "id": "386c1f62-39a7-4cc9-98bf-5e2022440ab4",
   "metadata": {},
   "source": [
    "To find the PPV of our model we first need to calculate the number of true positives and false positives. To do so, we compare the predicted labels to the test labels. If the predicted label is 1 and the acutal label is 1, then that is a true positive. If the predicted label is 1 and the true label is 0 that is a false positive."
   ]
  },
  {
   "cell_type": "code",
   "execution_count": 18,
   "id": "f3010ed2-2420-430a-aef7-1f0f175322e9",
   "metadata": {},
   "outputs": [
    {
     "name": "stdout",
     "output_type": "stream",
     "text": [
      "The positive predictive value of this model is: 0.709\n"
     ]
    }
   ],
   "source": [
    "TP = len((np.where((y_hat==1) & (y_test==1))[0]))\n",
    "FP = len((np.where((y_hat==1) & (y_test==0))[0]))\n",
    "PPV = round((TP)/(TP+FP),4)\n",
    "print(\"The positive predictive value of this model is: \" + str(PPV))"
   ]
  },
  {
   "cell_type": "markdown",
   "id": "135a1015-0085-4027-b8e6-f8f7ffb6a356",
   "metadata": {},
   "source": [
    "The FPR represents the rate at which a test label of 0 is incorrectly predicted to be 1.\n",
    "THE FNR represents the rate at which a test label of 1 is incorrectly predicted to be 0."
   ]
  },
  {
   "cell_type": "code",
   "execution_count": 19,
   "id": "84477d49-d144-4bfe-88c4-d7358af22e05",
   "metadata": {},
   "outputs": [
    {
     "name": "stdout",
     "output_type": "stream",
     "text": [
      "FPR = 0.11853101896496303\n",
      "FNR = 0.3187334091770952\n"
     ]
    }
   ],
   "source": [
    "conf_matrix = confusion_matrix(y_test,y_hat, normalize = 'true')\n",
    "print(\"FPR = \" + str(conf_matrix[0][1]))\n",
    "print(\"FNR = \" + str(conf_matrix[1][0])) "
   ]
  },
  {
   "cell_type": "markdown",
   "id": "65dab603-0321-4621-b51a-7457e9e4ab4f",
   "metadata": {},
   "source": [
    "---"
   ]
  },
  {
   "cell_type": "markdown",
   "id": "cac590cb-4b9e-487a-9398-efe8c5076fce",
   "metadata": {},
   "source": [
    "## By Group Measures"
   ]
  },
  {
   "cell_type": "markdown",
   "id": "6f799809-1327-4c99-9cce-b8bee78289c2",
   "metadata": {},
   "source": [
    "Now we will compare the accuracy of our model for individual groups. So we filter by gender"
   ]
  },
  {
   "cell_type": "code",
   "execution_count": 24,
   "id": "d88861ff-82cc-4549-a352-4e1fe31c4ac1",
   "metadata": {},
   "outputs": [
    {
     "name": "stdout",
     "output_type": "stream",
     "text": [
      "The accuracy for male individuals is 0.8181\n",
      "The accuracy for female individuals is 0.8255\n"
     ]
    }
   ],
   "source": [
    "print(\"The accuracy for male individuals is \" + str((y_hat==y_test)[group_test==1].mean().round(4)))\n",
    "print(\"The accuracy for female individuals is \" + str((y_hat==y_test)[group_test==2].mean().round(4)))\n"
   ]
  },
  {
   "cell_type": "markdown",
   "id": "ae86ecc3-166d-4f03-a55d-74d4cb6e4ea5",
   "metadata": {},
   "source": [
    " Now we will copmare some of the accuracy metrics such as the false positive rate and the false negative rate. They are about equal for both genders which is generally a good sign"
   ]
  },
  {
   "cell_type": "code",
   "execution_count": 38,
   "id": "d37444f6-766b-423d-92ee-360f690e95f8",
   "metadata": {},
   "outputs": [
    {
     "name": "stdout",
     "output_type": "stream",
     "text": [
      "FPR for male individuals = 0.1007483117357182\n",
      "FNR for male individuals = 0.32504038772213245\n",
      "FPR for female individuals = 0.1323761665470208\n",
      "FNR for female individuals = 0.3088572739788894\n"
     ]
    }
   ],
   "source": [
    "conf_matrix_male_norm = confusion_matrix(y_test[group_test==1],y_hat[group_test==1], normalize = 'true')\n",
    "print(\"FPR for male individuals = \" + str(conf_matrix_male_norm[0][1]))\n",
    "print(\"FNR for male individuals = \" + str(conf_matrix_male_norm[1][0])) \n",
    "\n",
    "conf_matrix_female_norm = confusion_matrix(y_test[group_test==2],y_hat[group_test==2], normalize = 'true')\n",
    "print(\"FPR for female individuals = \" + str(conf_matrix_female_norm[0][1]))\n",
    "print(\"FNR for female individuals = \" + str(conf_matrix_female_norm[1][0])) \n"
   ]
  },
  {
   "cell_type": "markdown",
   "id": "93329e00-6efa-47b4-8107-5c7e992345d4",
   "metadata": {},
   "source": [
    "---"
   ]
  },
  {
   "cell_type": "markdown",
   "id": "7c83b7b0-3f2a-453c-b624-40e9be16a7f3",
   "metadata": {},
   "source": [
    "## Bias Measures"
   ]
  },
  {
   "cell_type": "markdown",
   "id": "d0ed6a1e-de14-40c7-a013-aa9751427022",
   "metadata": {},
   "source": [
    "**Calibration** means that the fraction of predicted people to have an income >= $\\$$50,000 who actually had an income >=$50,000 is the same across all groups. So we will calculate this metric for both genders. This metric can be calculated by dividing the number of true positives by the total number of predicted positives."
   ]
  },
  {
   "cell_type": "code",
   "execution_count": 59,
   "id": "d647c218-a5ed-4c19-9b50-bdad265cbfbb",
   "metadata": {},
   "outputs": [
    {
     "name": "stdout",
     "output_type": "stream",
     "text": [
      "The fraction of males predicted to have an income >=$50000 who actually had an income of >=$50000 is 0.8993\n",
      "The fraction offe males predicted to have an income >=$50000 who actually had an income of >=$50000 is 0.8676\n"
     ]
    }
   ],
   "source": [
    "conf_matrix_male = confusion_matrix(y_test[group_test==1],y_hat[group_test==1])\n",
    "male_calibration = confusion_matrix(y_test[group_test==1],y_hat[group_test==1])[0][0]/(confusion_matrix(y_test[group_test==1],y_hat[group_test==1])[0].sum())\n",
    "conf_matrix_female = confusion_matrix(y_test[group_test==2],y_hat[group_test==2])\n",
    "female_calibration = confusion_matrix(y_test[group_test==2],y_hat[group_test==2])[0][0]/(confusion_matrix(y_test[group_test==2],y_hat[group_test==2])[0].sum())\n",
    "\n",
    "print(\"The fraction of males predicted to have an income >=$50000 who actually had an income of >=$50000 is \" + str(male_calibration.round(4)))\n",
    "print(\"The fraction offe males predicted to have an income >=$50000 who actually had an income of >=$50000 is \" + str(female_calibration.round(4)))\n",
    "\n"
   ]
  },
  {
   "cell_type": "markdown",
   "id": "60e9179f-718d-403d-a1db-f9e9a9e5d20b",
   "metadata": {},
   "source": [
    "I would say that the model is calibrated as the proportions for each group are roughly the same."
   ]
  },
  {
   "cell_type": "markdown",
   "id": "bb189509-1e07-4813-be72-c61e1209f6d3",
   "metadata": {},
   "source": [
    "A model satisfies **error rate balance** if the false positive and false negative rates are equal across groups. Looking at the previously calculated FPR anf FNR, I would say that this model satidfies error rate balance. The FPR for both groups is rounghly 12% and the FNR for both groups is roughly 31%."
   ]
  },
  {
   "cell_type": "markdown",
   "id": "84ce9ec4-6cdc-428c-9b09-f38959bcdf11",
   "metadata": {},
   "source": [
    "A model satisifes **statistical parity** if the proportion of individuals classified as having an income >=$50000 is the same for each group. So we compare the total number of predicted positives."
   ]
  },
  {
   "cell_type": "code",
   "execution_count": 58,
   "id": "0ae5d3fd-cfb6-49d1-a51f-07889e62fd01",
   "metadata": {},
   "outputs": [
    {
     "name": "stdout",
     "output_type": "stream",
     "text": [
      "The proportion of males classified as having an income greater than $50,000 is 0.1593798179015039\n",
      "The proportion of females classified as having an income greater than $50,000 is 0.19086898139267217\n"
     ]
    }
   ],
   "source": [
    "print(\"The proportion of males classified as having an income greater than $50,000 is \" + str((confusion_matrix(y_test[group_test==1],y_hat[group_test==1])[0].sum())/34377))\n",
    "print(\"The proportion of females classified as having an income greater than $50,000 is \" + str((confusion_matrix(y_test[group_test==2],y_hat[group_test==2])[0].sum())/36491))\n"
   ]
  },
  {
   "cell_type": "markdown",
   "id": "3bd033cf-18ec-4657-ba48-67b38ad164d1",
   "metadata": {},
   "source": [
    "Again, these values are roughly the same, so I would say that this model satisfies statistical parity."
   ]
  },
  {
   "cell_type": "markdown",
   "id": "4db7abb2-e41f-4a38-a34a-c598ca068ff5",
   "metadata": {},
   "source": [
    "1. Companies like banks or credit card companies could benefit from this model. Banks often give out loans and need to asses how much money is a safe amount to give to their clients. Knowing their clients' incomes would be very helpful in assesing the risks of pursuing a loan. Credit card companies follow a similar process when determining to accept a clients' credit card request.\n",
    "\n",
    "2. I think it is interesting that this model gives companies/organizations that don't usually have access to your income more insight into your financials. Job employers usually don't have access to your current salary/wage, but now this algorithm will give them more insight and could potentially help them in deciding a new salary offer. Places like country clubs, whos reputation is encompassed by wealth, could use this kind of algorithm. \n",
    "\n",
    "3. Based on my bias audit, I don't think that my model displays problematic bias. The model satisifies the calibration, error rate and statistical parity tests. So, there is no obvious bias, but as always more investigating is also helpful.\n",
    "\n",
    "4. In my opion the accuracy of this model is not high enoughly to be deployed. The accuracy of the model is about 80% meaning it predicts the wrong out come 20% of the time. To put this into perspective, this model is incorrect for every 5th person. To help remedy this, I would suggest either collecting more data or reevaluating the parameters/factors involved\n",
    "\n"
   ]
  },
  {
   "cell_type": "code",
   "execution_count": null,
   "id": "4fafe601-7e45-4212-b318-96133e846ca5",
   "metadata": {},
   "outputs": [],
   "source": []
  }
 ],
 "metadata": {
  "kernelspec": {
   "display_name": "Python 3 (ipykernel)",
   "language": "python",
   "name": "python3"
  },
  "language_info": {
   "codemirror_mode": {
    "name": "ipython",
    "version": 3
   },
   "file_extension": ".py",
   "mimetype": "text/x-python",
   "name": "python",
   "nbconvert_exporter": "python",
   "pygments_lexer": "ipython3",
   "version": "3.9.16"
  }
 },
 "nbformat": 4,
 "nbformat_minor": 5
}
